{
 "cells": [
  {
   "cell_type": "markdown",
   "id": "b895d531",
   "metadata": {},
   "source": [
    "# Japan Used Cars Price Prediction\n",
    "\n",
    "### Problem Statement:\n",
    "Cars' data was scraped from tc-v.com and it included Information about Japan's largest online used car marketplace. Ten features were assembled for each car in the dataset."
   ]
  },
  {
   "cell_type": "markdown",
   "id": "c61a60bf",
   "metadata": {},
   "source": [
    "# Import required libraries:"
   ]
  },
  {
   "cell_type": "code",
   "execution_count": 1,
   "id": "a5cdec17",
   "metadata": {},
   "outputs": [],
   "source": [
    "import pandas as pd\n",
    "import numpy as np\n",
    "import seaborn as sns\n",
    "import matplotlib.pyplot as plt\n",
    "\n",
    "from sklearn.linear_model import LinearRegression,ElasticNet\n",
    "from sklearn.gaussian_process import GaussianProcessRegressor\n",
    "from sklearn.metrics import mean_absolute_error,mean_squared_error,r2_score\n",
    "from sklearn.ensemble import AdaBoostRegressor, BaggingRegressor\n",
    "from sklearn.neighbors import KNeighborsRegressor\n",
    "from sklearn.tree import DecisionTreeRegressor\n",
    "from scipy import stats\n",
    "from scipy.stats import skew\n",
    "import pylab\n",
    "\n",
    "\n",
    "from sklearn.model_selection import train_test_split\n",
    "from sklearn.model_selection import cross_val_score\n",
    "\n",
    "import joblib\n",
    "import warnings\n",
    "warnings.filterwarnings('ignore')"
   ]
  },
  {
   "cell_type": "markdown",
   "id": "27f9ed60",
   "metadata": {},
   "source": [
    "# Import the dataset"
   ]
  },
  {
   "cell_type": "code",
   "execution_count": 9,
   "id": "f978ad5d",
   "metadata": {
    "scrolled": true
   },
   "outputs": [
    {
     "data": {
      "text/html": [
       "<div>\n",
       "<style scoped>\n",
       "    .dataframe tbody tr th:only-of-type {\n",
       "        vertical-align: middle;\n",
       "    }\n",
       "\n",
       "    .dataframe tbody tr th {\n",
       "        vertical-align: top;\n",
       "    }\n",
       "\n",
       "    .dataframe thead th {\n",
       "        text-align: right;\n",
       "    }\n",
       "</style>\n",
       "<table border=\"1\" class=\"dataframe\">\n",
       "  <thead>\n",
       "    <tr style=\"text-align: right;\">\n",
       "      <th></th>\n",
       "      <th>id</th>\n",
       "      <th>price</th>\n",
       "      <th>mark</th>\n",
       "      <th>model</th>\n",
       "      <th>year</th>\n",
       "      <th>mileage</th>\n",
       "      <th>engine_capacity</th>\n",
       "      <th>transmission</th>\n",
       "      <th>drive</th>\n",
       "      <th>hand_drive</th>\n",
       "      <th>fuel</th>\n",
       "    </tr>\n",
       "  </thead>\n",
       "  <tbody>\n",
       "    <tr>\n",
       "      <th>0</th>\n",
       "      <td>0</td>\n",
       "      <td>80</td>\n",
       "      <td>nissan</td>\n",
       "      <td>march</td>\n",
       "      <td>2003</td>\n",
       "      <td>80000</td>\n",
       "      <td>1240</td>\n",
       "      <td>at</td>\n",
       "      <td>2wd</td>\n",
       "      <td>rhd</td>\n",
       "      <td>gasoline</td>\n",
       "    </tr>\n",
       "    <tr>\n",
       "      <th>1</th>\n",
       "      <td>1</td>\n",
       "      <td>110</td>\n",
       "      <td>nissan</td>\n",
       "      <td>march</td>\n",
       "      <td>2010</td>\n",
       "      <td>53000</td>\n",
       "      <td>1200</td>\n",
       "      <td>at</td>\n",
       "      <td>2wd</td>\n",
       "      <td>rhd</td>\n",
       "      <td>gasoline</td>\n",
       "    </tr>\n",
       "    <tr>\n",
       "      <th>2</th>\n",
       "      <td>2</td>\n",
       "      <td>165</td>\n",
       "      <td>nissan</td>\n",
       "      <td>lafesta</td>\n",
       "      <td>2005</td>\n",
       "      <td>47690</td>\n",
       "      <td>2000</td>\n",
       "      <td>at</td>\n",
       "      <td>2wd</td>\n",
       "      <td>rhd</td>\n",
       "      <td>gasoline</td>\n",
       "    </tr>\n",
       "    <tr>\n",
       "      <th>3</th>\n",
       "      <td>3</td>\n",
       "      <td>190</td>\n",
       "      <td>toyota</td>\n",
       "      <td>avensis</td>\n",
       "      <td>2008</td>\n",
       "      <td>130661</td>\n",
       "      <td>1990</td>\n",
       "      <td>at</td>\n",
       "      <td>2wd</td>\n",
       "      <td>rhd</td>\n",
       "      <td>gasoline</td>\n",
       "    </tr>\n",
       "    <tr>\n",
       "      <th>4</th>\n",
       "      <td>4</td>\n",
       "      <td>190</td>\n",
       "      <td>daihatsu</td>\n",
       "      <td>mira</td>\n",
       "      <td>2006</td>\n",
       "      <td>66300</td>\n",
       "      <td>660</td>\n",
       "      <td>at</td>\n",
       "      <td>2wd</td>\n",
       "      <td>rhd</td>\n",
       "      <td>gasoline</td>\n",
       "    </tr>\n",
       "    <tr>\n",
       "      <th>...</th>\n",
       "      <td>...</td>\n",
       "      <td>...</td>\n",
       "      <td>...</td>\n",
       "      <td>...</td>\n",
       "      <td>...</td>\n",
       "      <td>...</td>\n",
       "      <td>...</td>\n",
       "      <td>...</td>\n",
       "      <td>...</td>\n",
       "      <td>...</td>\n",
       "      <td>...</td>\n",
       "    </tr>\n",
       "    <tr>\n",
       "      <th>2313</th>\n",
       "      <td>2331</td>\n",
       "      <td>1400</td>\n",
       "      <td>toyota</td>\n",
       "      <td>vitz</td>\n",
       "      <td>2009</td>\n",
       "      <td>121000</td>\n",
       "      <td>996</td>\n",
       "      <td>at</td>\n",
       "      <td>2wd</td>\n",
       "      <td>rhd</td>\n",
       "      <td>gasoline</td>\n",
       "    </tr>\n",
       "    <tr>\n",
       "      <th>2314</th>\n",
       "      <td>2332</td>\n",
       "      <td>1400</td>\n",
       "      <td>toyota</td>\n",
       "      <td>estima</td>\n",
       "      <td>2003</td>\n",
       "      <td>101000</td>\n",
       "      <td>3000</td>\n",
       "      <td>at</td>\n",
       "      <td>2wd</td>\n",
       "      <td>rhd</td>\n",
       "      <td>gasoline</td>\n",
       "    </tr>\n",
       "    <tr>\n",
       "      <th>2315</th>\n",
       "      <td>2333</td>\n",
       "      <td>1400</td>\n",
       "      <td>subaru</td>\n",
       "      <td>r2</td>\n",
       "      <td>2005</td>\n",
       "      <td>101000</td>\n",
       "      <td>660</td>\n",
       "      <td>cvt</td>\n",
       "      <td>2wd</td>\n",
       "      <td>rhd</td>\n",
       "      <td>gasoline</td>\n",
       "    </tr>\n",
       "    <tr>\n",
       "      <th>2316</th>\n",
       "      <td>2334</td>\n",
       "      <td>1400</td>\n",
       "      <td>honda</td>\n",
       "      <td>z</td>\n",
       "      <td>2000</td>\n",
       "      <td>170000</td>\n",
       "      <td>660</td>\n",
       "      <td>at</td>\n",
       "      <td>4wd</td>\n",
       "      <td>rhd</td>\n",
       "      <td>gasoline</td>\n",
       "    </tr>\n",
       "    <tr>\n",
       "      <th>2317</th>\n",
       "      <td>2335</td>\n",
       "      <td>1400</td>\n",
       "      <td>toyota</td>\n",
       "      <td>estima t</td>\n",
       "      <td>2005</td>\n",
       "      <td>72320</td>\n",
       "      <td>3000</td>\n",
       "      <td>at</td>\n",
       "      <td>2wd</td>\n",
       "      <td>rhd</td>\n",
       "      <td>gasoline</td>\n",
       "    </tr>\n",
       "  </tbody>\n",
       "</table>\n",
       "<p>2318 rows × 11 columns</p>\n",
       "</div>"
      ],
      "text/plain": [
       "        id  price      mark     model  year  mileage  engine_capacity  \\\n",
       "0        0     80    nissan     march  2003    80000             1240   \n",
       "1        1    110    nissan     march  2010    53000             1200   \n",
       "2        2    165    nissan   lafesta  2005    47690             2000   \n",
       "3        3    190    toyota   avensis  2008   130661             1990   \n",
       "4        4    190  daihatsu      mira  2006    66300              660   \n",
       "...    ...    ...       ...       ...   ...      ...              ...   \n",
       "2313  2331   1400    toyota      vitz  2009   121000              996   \n",
       "2314  2332   1400    toyota    estima  2003   101000             3000   \n",
       "2315  2333   1400    subaru        r2  2005   101000              660   \n",
       "2316  2334   1400     honda         z  2000   170000              660   \n",
       "2317  2335   1400    toyota  estima t  2005    72320             3000   \n",
       "\n",
       "     transmission drive hand_drive      fuel  \n",
       "0              at   2wd        rhd  gasoline  \n",
       "1              at   2wd        rhd  gasoline  \n",
       "2              at   2wd        rhd  gasoline  \n",
       "3              at   2wd        rhd  gasoline  \n",
       "4              at   2wd        rhd  gasoline  \n",
       "...           ...   ...        ...       ...  \n",
       "2313           at   2wd        rhd  gasoline  \n",
       "2314           at   2wd        rhd  gasoline  \n",
       "2315          cvt   2wd        rhd  gasoline  \n",
       "2316           at   4wd        rhd  gasoline  \n",
       "2317           at   2wd        rhd  gasoline  \n",
       "\n",
       "[2318 rows x 11 columns]"
      ]
     },
     "execution_count": 9,
     "metadata": {},
     "output_type": "execute_result"
    }
   ],
   "source": [
    "df=pd.read_csv(\"https://raw.githubusercontent.com/dsrscientist/dataset4/main/Japan_used_cars_datasets.csv\")\n",
    "df"
   ]
  },
  {
   "cell_type": "code",
   "execution_count": 10,
   "id": "34b86eb8",
   "metadata": {},
   "outputs": [
    {
     "data": {
      "text/plain": [
       "Index(['id', 'price', 'mark', 'model', 'year', 'mileage', 'engine_capacity',\n",
       "       'transmission', 'drive', 'hand_drive', 'fuel'],\n",
       "      dtype='object')"
      ]
     },
     "execution_count": 10,
     "metadata": {},
     "output_type": "execute_result"
    }
   ],
   "source": [
    "df.columns"
   ]
  },
  {
   "cell_type": "markdown",
   "id": "3c42a0ea",
   "metadata": {},
   "source": [
    "Above is the list of all columns."
   ]
  },
  {
   "cell_type": "code",
   "execution_count": 11,
   "id": "042173b9",
   "metadata": {},
   "outputs": [
    {
     "data": {
      "text/plain": [
       "(2318, 11)"
      ]
     },
     "execution_count": 11,
     "metadata": {},
     "output_type": "execute_result"
    }
   ],
   "source": [
    "df.shape"
   ]
  },
  {
   "cell_type": "markdown",
   "id": "43dcf4c2",
   "metadata": {},
   "source": [
    "**Dataset has 2318 rows and 11 columns.**"
   ]
  },
  {
   "cell_type": "code",
   "execution_count": 12,
   "id": "e8e05ae4",
   "metadata": {},
   "outputs": [
    {
     "data": {
      "text/plain": [
       "id                  int64\n",
       "price               int64\n",
       "mark               object\n",
       "model              object\n",
       "year                int64\n",
       "mileage             int64\n",
       "engine_capacity     int64\n",
       "transmission       object\n",
       "drive              object\n",
       "hand_drive         object\n",
       "fuel               object\n",
       "dtype: object"
      ]
     },
     "execution_count": 12,
     "metadata": {},
     "output_type": "execute_result"
    }
   ],
   "source": [
    "df.dtypes"
   ]
  },
  {
   "cell_type": "markdown",
   "id": "3425b729",
   "metadata": {},
   "source": [
    "We can see both type of columns numerical and object type."
   ]
  },
  {
   "cell_type": "code",
   "execution_count": 14,
   "id": "a05ecec1",
   "metadata": {},
   "outputs": [
    {
     "data": {
      "text/html": [
       "<div>\n",
       "<style scoped>\n",
       "    .dataframe tbody tr th:only-of-type {\n",
       "        vertical-align: middle;\n",
       "    }\n",
       "\n",
       "    .dataframe tbody tr th {\n",
       "        vertical-align: top;\n",
       "    }\n",
       "\n",
       "    .dataframe thead th {\n",
       "        text-align: right;\n",
       "    }\n",
       "</style>\n",
       "<table border=\"1\" class=\"dataframe\">\n",
       "  <thead>\n",
       "    <tr style=\"text-align: right;\">\n",
       "      <th></th>\n",
       "      <th>id</th>\n",
       "      <th>price</th>\n",
       "      <th>year</th>\n",
       "      <th>mileage</th>\n",
       "      <th>engine_capacity</th>\n",
       "    </tr>\n",
       "  </thead>\n",
       "  <tbody>\n",
       "    <tr>\n",
       "      <th>count</th>\n",
       "      <td>2318.000000</td>\n",
       "      <td>2318.000000</td>\n",
       "      <td>2318.000000</td>\n",
       "      <td>2318.000000</td>\n",
       "      <td>2318.000000</td>\n",
       "    </tr>\n",
       "    <tr>\n",
       "      <th>mean</th>\n",
       "      <td>1169.047023</td>\n",
       "      <td>971.522433</td>\n",
       "      <td>2005.972390</td>\n",
       "      <td>100013.194996</td>\n",
       "      <td>1507.010785</td>\n",
       "    </tr>\n",
       "    <tr>\n",
       "      <th>std</th>\n",
       "      <td>674.460724</td>\n",
       "      <td>288.673112</td>\n",
       "      <td>3.698863</td>\n",
       "      <td>52512.478883</td>\n",
       "      <td>549.585170</td>\n",
       "    </tr>\n",
       "    <tr>\n",
       "      <th>min</th>\n",
       "      <td>0.000000</td>\n",
       "      <td>80.000000</td>\n",
       "      <td>1979.000000</td>\n",
       "      <td>2000.000000</td>\n",
       "      <td>9.000000</td>\n",
       "    </tr>\n",
       "    <tr>\n",
       "      <th>25%</th>\n",
       "      <td>583.250000</td>\n",
       "      <td>776.000000</td>\n",
       "      <td>2004.000000</td>\n",
       "      <td>67000.000000</td>\n",
       "      <td>1300.000000</td>\n",
       "    </tr>\n",
       "    <tr>\n",
       "      <th>50%</th>\n",
       "      <td>1168.500000</td>\n",
       "      <td>1000.000000</td>\n",
       "      <td>2006.000000</td>\n",
       "      <td>94000.000000</td>\n",
       "      <td>1490.000000</td>\n",
       "    </tr>\n",
       "    <tr>\n",
       "      <th>75%</th>\n",
       "      <td>1753.750000</td>\n",
       "      <td>1213.000000</td>\n",
       "      <td>2009.000000</td>\n",
       "      <td>124000.000000</td>\n",
       "      <td>1800.000000</td>\n",
       "    </tr>\n",
       "    <tr>\n",
       "      <th>max</th>\n",
       "      <td>2335.000000</td>\n",
       "      <td>1400.000000</td>\n",
       "      <td>2015.000000</td>\n",
       "      <td>790000.000000</td>\n",
       "      <td>12340.000000</td>\n",
       "    </tr>\n",
       "  </tbody>\n",
       "</table>\n",
       "</div>"
      ],
      "text/plain": [
       "                id        price         year        mileage  engine_capacity\n",
       "count  2318.000000  2318.000000  2318.000000    2318.000000      2318.000000\n",
       "mean   1169.047023   971.522433  2005.972390  100013.194996      1507.010785\n",
       "std     674.460724   288.673112     3.698863   52512.478883       549.585170\n",
       "min       0.000000    80.000000  1979.000000    2000.000000         9.000000\n",
       "25%     583.250000   776.000000  2004.000000   67000.000000      1300.000000\n",
       "50%    1168.500000  1000.000000  2006.000000   94000.000000      1490.000000\n",
       "75%    1753.750000  1213.000000  2009.000000  124000.000000      1800.000000\n",
       "max    2335.000000  1400.000000  2015.000000  790000.000000     12340.000000"
      ]
     },
     "execution_count": 14,
     "metadata": {},
     "output_type": "execute_result"
    }
   ],
   "source": [
    "df.describe()"
   ]
  },
  {
   "cell_type": "code",
   "execution_count": 16,
   "id": "b863eb03",
   "metadata": {},
   "outputs": [
    {
     "data": {
      "text/plain": [
       "id                 0\n",
       "price              0\n",
       "mark               0\n",
       "model              0\n",
       "year               0\n",
       "mileage            0\n",
       "engine_capacity    0\n",
       "transmission       0\n",
       "drive              0\n",
       "hand_drive         0\n",
       "fuel               0\n",
       "dtype: int64"
      ]
     },
     "execution_count": 16,
     "metadata": {},
     "output_type": "execute_result"
    }
   ],
   "source": [
    "df.isnull().sum()"
   ]
  },
  {
   "cell_type": "code",
   "execution_count": 17,
   "id": "8583d269",
   "metadata": {},
   "outputs": [
    {
     "data": {
      "text/plain": [
       "<AxesSubplot:>"
      ]
     },
     "execution_count": 17,
     "metadata": {},
     "output_type": "execute_result"
    },
    {
     "data": {
      "image/png": "[encoded data removed]",
      "text/plain": [
       "<Figure size 432x288 with 2 Axes>"
      ]
     },
     "metadata": {
      "needs_background": "light"
     },
     "output_type": "display_data"
    }
   ],
   "source": [
    "#Let's see it with the help of heatmap:\n",
    "sns.heatmap(df.isnull())"
   ]
  },
  {
   "cell_type": "markdown",
   "id": "a6d158d6",
   "metadata": {},
   "source": [
    "our dataset does not contains null values."
   ]
  },
  {
   "cell_type": "code",
   "execution_count": 20,
   "id": "1d3008c2",
   "metadata": {},
   "outputs": [
    {
     "data": {
      "text/plain": [
       "0         80\n",
       "1        110\n",
       "2        165\n",
       "3        190\n",
       "4        190\n",
       "        ... \n",
       "2313    1400\n",
       "2314    1400\n",
       "2315    1400\n",
       "2316    1400\n",
       "2317    1400\n",
       "Name: price, Length: 2318, dtype: int64"
      ]
     },
     "execution_count": 20,
     "metadata": {},
     "output_type": "execute_result"
    }
   ],
   "source": [
    "df['price']"
   ]
  },
  {
   "cell_type": "code",
   "execution_count": 22,
   "id": "53bc1f2e",
   "metadata": {},
   "outputs": [
    {
     "name": "stdout",
     "output_type": "stream",
     "text": [
      "mark : 28\n",
      "model : 258\n",
      "transmission : 3\n",
      "drive : 3\n",
      "hand_drive : 3\n",
      "fuel : 5\n"
     ]
    }
   ],
   "source": [
    "#checking unique values for all object type columns\n",
    "for i in df.columns:\n",
    "    if df[i].dtype == 'object':\n",
    "        print(i, \":\", df[i].nunique())"
   ]
  },
  {
   "cell_type": "code",
   "execution_count": 23,
   "id": "6d2e9284",
   "metadata": {},
   "outputs": [
    {
     "data": {
      "text/plain": [
       "2005    365\n",
       "2007    318\n",
       "2003    248\n",
       "2006    199\n",
       "2009    199\n",
       "2004    194\n",
       "2011    173\n",
       "2010    153\n",
       "2008     91\n",
       "2002     82\n",
       "2001     77\n",
       "2013     52\n",
       "2012     42\n",
       "1999     32\n",
       "2000     27\n",
       "1998     13\n",
       "1997     13\n",
       "1996      6\n",
       "1995      6\n",
       "1993      5\n",
       "1994      4\n",
       "2014      4\n",
       "1990      4\n",
       "1991      3\n",
       "1992      3\n",
       "1979      1\n",
       "1982      1\n",
       "2015      1\n",
       "1987      1\n",
       "1988      1\n",
       "Name: year, dtype: int64"
      ]
     },
     "execution_count": 23,
     "metadata": {},
     "output_type": "execute_result"
    }
   ],
   "source": [
    "data['year'].value_counts()"
   ]
  },
  {
   "cell_type": "markdown",
   "id": "a44b552d",
   "metadata": {},
   "source": [
    "# Let's Check the correlation now:"
   ]
  },
  {
   "cell_type": "code",
   "execution_count": 24,
   "id": "4e2f8ce1",
   "metadata": {},
   "outputs": [
    {
     "data": {
      "image/png": "[encoded data removed]",
      "text/plain": [
       "<Figure size 1440x720 with 2 Axes>"
      ]
     },
     "metadata": {
      "needs_background": "light"
     },
     "output_type": "display_data"
    }
   ],
   "source": [
    "plt.figure(figsize=(20,10))\n",
    "sns.heatmap(df.corr(),annot=True,cmap='coolwarm')\n",
    "plt.show()"
   ]
  },
  {
   "cell_type": "markdown",
   "id": "3060eebb",
   "metadata": {},
   "source": [
    "Let's change the data type of other object type columns."
   ]
  },
  {
   "cell_type": "code",
   "execution_count": 25,
   "id": "9b81b030",
   "metadata": {},
   "outputs": [
    {
     "data": {
      "text/plain": [
       "id                  int64\n",
       "price               int64\n",
       "mark               object\n",
       "model              object\n",
       "year                int64\n",
       "mileage             int64\n",
       "engine_capacity     int64\n",
       "transmission       object\n",
       "drive              object\n",
       "hand_drive         object\n",
       "fuel               object\n",
       "dtype: object"
      ]
     },
     "execution_count": 25,
     "metadata": {},
     "output_type": "execute_result"
    }
   ],
   "source": [
    "df.dtypes"
   ]
  },
  {
   "cell_type": "markdown",
   "id": "ec744575",
   "metadata": {},
   "source": [
    "# Encoding:"
   ]
  },
  {
   "cell_type": "code",
   "execution_count": 26,
   "id": "63597588",
   "metadata": {},
   "outputs": [],
   "source": [
    "from sklearn.preprocessing import LabelEncoder\n",
    "le=LabelEncoder()\n",
    "\n",
    "for i in df.columns:\n",
    "    if df[i].dtypes=='object':\n",
    "        df[i]=le.fit_transform(df[i].astype(str).values.reshape(-1,1))"
   ]
  },
  {
   "cell_type": "code",
   "execution_count": 28,
   "id": "21efddfc",
   "metadata": {},
   "outputs": [
    {
     "data": {
      "text/plain": [
       "<seaborn.axisgrid.FacetGrid at 0x252058b4880>"
      ]
     },
     "execution_count": 28,
     "metadata": {},
     "output_type": "execute_result"
    },
    {
     "data": {
      "image/png": "[encoded data removed]",
      "text/plain": [
       "<Figure size 360x360 with 1 Axes>"
      ]
     },
     "metadata": {
      "needs_background": "light"
     },
     "output_type": "display_data"
    }
   ],
   "source": [
    "sns.relplot(x='year', y='fuel',data=df, kind='line')"
   ]
  },
  {
   "cell_type": "markdown",
   "id": "5bbdd0c9",
   "metadata": {},
   "source": [
    "We can see positive relation between year and fuel."
   ]
  },
  {
   "cell_type": "code",
   "execution_count": 30,
   "id": "2ab93cc2",
   "metadata": {},
   "outputs": [
    {
     "data": {
      "text/plain": [
       "<seaborn.axisgrid.FacetGrid at 0x25205901580>"
      ]
     },
     "execution_count": 30,
     "metadata": {},
     "output_type": "execute_result"
    },
    {
     "data": {
      "image/png": "[encoded data removed]",
      "text/plain": [
       "<Figure size 360x360 with 1 Axes>"
      ]
     },
     "metadata": {
      "needs_background": "light"
     },
     "output_type": "display_data"
    }
   ],
   "source": [
    "sns.relplot(x='year', y='price',data=df, kind='scatter')"
   ]
  },
  {
   "cell_type": "markdown",
   "id": "bd476dde",
   "metadata": {},
   "source": [
    "We can see positive relation between year and Price."
   ]
  },
  {
   "cell_type": "code",
   "execution_count": 31,
   "id": "bed4e924",
   "metadata": {},
   "outputs": [
    {
     "data": {
      "text/plain": [
       "<AxesSubplot:>"
      ]
     },
     "execution_count": 31,
     "metadata": {},
     "output_type": "execute_result"
    },
    {
     "data": {
      "image/png": "[encoded data removed]",
      "text/plain": [
       "<Figure size 1440x720 with 2 Axes>"
      ]
     },
     "metadata": {
      "needs_background": "light"
     },
     "output_type": "display_data"
    }
   ],
   "source": [
    "plt.figure(figsize=(20,10))\n",
    "sns.heatmap(df.corr(),annot=True,linewidths=0.1,linecolor=\"yellow\",fmt=\"0.2f\",cmap=\"coolwarm\")"
   ]
  },
  {
   "cell_type": "markdown",
   "id": "6301afda",
   "metadata": {},
   "source": [
    "Checking the columns which are positively and negative correlated with the target columns:"
   ]
  },
  {
   "cell_type": "code",
   "execution_count": 34,
   "id": "004011f3",
   "metadata": {},
   "outputs": [
    {
     "data": {
      "image/png": "[encoded data removed]",
      "text/plain": [
       "<Figure size 720x432 with 1 Axes>"
      ]
     },
     "metadata": {
      "needs_background": "light"
     },
     "output_type": "display_data"
    }
   ],
   "source": [
    "plt.figure(figsize=(10,6))\n",
    "df.corr()['price'].sort_values(ascending=False).drop(['price']).plot(kind='bar',color='y')\n",
    "plt.xlabel('Feature',fontsize=14)\n",
    "plt.ylabel('column with target names',fontsize=14)\n",
    "plt.title('correlation',fontsize=18)\n",
    "plt.show()"
   ]
  },
  {
   "cell_type": "markdown",
   "id": "9ea883be",
   "metadata": {},
   "source": [
    "Our target column Price is positively correlated with id and has negative correlation with year column."
   ]
  },
  {
   "cell_type": "code",
   "execution_count": 35,
   "id": "7fc18a94",
   "metadata": {},
   "outputs": [
    {
     "name": "stdout",
     "output_type": "stream",
     "text": [
      "(2318, 10)\n",
      "(2318,)\n"
     ]
    }
   ],
   "source": [
    "x=df.drop('price', axis=1)\n",
    "y=df['price']\n",
    "print(x.shape)\n",
    "print(y.shape)"
   ]
  },
  {
   "cell_type": "markdown",
   "id": "245ea875",
   "metadata": {},
   "source": [
    "Other than price all other columns object type hence Skewness and outliers removal is not required."
   ]
  },
  {
   "cell_type": "markdown",
   "id": "adc8e905",
   "metadata": {},
   "source": [
    "# Finding best random state:"
   ]
  },
  {
   "cell_type": "code",
   "execution_count": 36,
   "id": "a905d351",
   "metadata": {},
   "outputs": [
    {
     "name": "stdout",
     "output_type": "stream",
     "text": [
      "Best accuracy is  0.9776052422157286  at Random State  46\n"
     ]
    }
   ],
   "source": [
    "maxAcc=0\n",
    "maxRS=0\n",
    "for i in range(1,200):\n",
    "    x_train,x_test,y_train,y_test=train_test_split(x,y,test_size=.20,random_state=i)\n",
    "    Ln=LinearRegression()\n",
    "    Ln.fit(x_train,y_train)\n",
    "    pred=Ln.predict(x_test)\n",
    "    acc=r2_score(y_test,pred)\n",
    "    if acc>maxAcc:\n",
    "        maxAcc=acc\n",
    "        maxRS=i\n",
    "print(\"Best accuracy is \",maxAcc, \" at Random State \",maxRS)"
   ]
  },
  {
   "cell_type": "code",
   "execution_count": 37,
   "id": "da991c1c",
   "metadata": {},
   "outputs": [],
   "source": [
    "x_train,x_test,y_train,y_test=train_test_split(x,y,test_size=.20,random_state=maxRS)"
   ]
  },
  {
   "cell_type": "code",
   "execution_count": 37,
   "id": "44b650c6",
   "metadata": {},
   "outputs": [
    {
     "name": "stdout",
     "output_type": "stream",
     "text": [
      "Accuracy Score of LinearRegression() is: 96.55984883257044 %\n",
      "mean_absolute_error: 37.89589781212929\n",
      "mean_squared_error: 3162.020344906924\n",
      "Root mean_squared_error: 56.231844580334766\n",
      "\n",
      "\n",
      "Accuracy Score of AdaBoostRegressor() is: 99.46319582276043 %\n",
      "mean_absolute_error: 16.56857954480561\n",
      "mean_squared_error: 493.4044020312181\n",
      "Root mean_squared_error: 22.212708120155412\n",
      "\n",
      "\n",
      "Accuracy Score of ElasticNet(alpha=0.0001) is: 96.55984087112262 %\n",
      "mean_absolute_error: 37.89573739774722\n",
      "mean_squared_error: 3162.0276626841833\n",
      "Root mean_squared_error: 56.231909648207605\n",
      "\n",
      "\n",
      "Accuracy Score of KNeighborsRegressor() is: 79.52280028354758 %\n",
      "mean_absolute_error: 95.70905172413794\n",
      "mean_squared_error: 18821.650258620688\n",
      "Root mean_squared_error: 137.19201966084137\n",
      "\n",
      "\n",
      "Accuracy Score of DecisionTreeRegressor() is: 99.97065556579217 %\n",
      "mean_absolute_error: 1.0237068965517242\n",
      "mean_squared_error: 26.97198275862069\n",
      "Root mean_squared_error: 5.193455762651752\n",
      "\n",
      "\n",
      "Accuracy Score of BaggingRegressor() is: 99.95745739359508 %\n",
      "mean_absolute_error: 1.059913793103447\n",
      "mean_squared_error: 39.10310344827587\n",
      "Root mean_squared_error: 6.253247432196799\n",
      "\n",
      "\n"
     ]
    }
   ],
   "source": [
    "model=[LinearRegression(),AdaBoostRegressor(),ElasticNet(alpha=0.0001),\n",
    "       KNeighborsRegressor(),DecisionTreeRegressor(), BaggingRegressor()]\n",
    "for m in model:\n",
    "    m.fit(x_train,y_train)\n",
    "    #sc=m.score(x_train,y_train)\n",
    "    predm=m.predict(x_test)\n",
    "    acc=r2_score(y_test,predm)\n",
    "    print('Accuracy Score of',m,'is:',acc * 100,\"%\")\n",
    "    print('mean_absolute_error:',mean_absolute_error(y_test,predm))\n",
    "    print('mean_squared_error:',mean_squared_error(y_test,predm))\n",
    "    print('Root mean_squared_error:',np.sqrt(mean_squared_error(y_test,predm)))\n",
    "    print(\"\\n\")"
   ]
  },
  {
   "cell_type": "markdown",
   "id": "d42be070",
   "metadata": {},
   "source": [
    "Heighest Accurecy is AdaboostRegressor which is 99.46%"
   ]
  },
  {
   "cell_type": "markdown",
   "id": "f3a8d67a",
   "metadata": {},
   "source": [
    "# Hyperparameter tunning:"
   ]
  },
  {
   "cell_type": "code",
   "execution_count": 38,
   "id": "a2ea7adc",
   "metadata": {},
   "outputs": [],
   "source": [
    "from sklearn.model_selection import RandomizedSearchCV"
   ]
  },
  {
   "cell_type": "markdown",
   "id": "62bf6c90",
   "metadata": {},
   "source": [
    "LinearRegression"
   ]
  },
  {
   "cell_type": "code",
   "execution_count": 40,
   "id": "dca8231c",
   "metadata": {},
   "outputs": [],
   "source": [
    "parameters1={'fit_intercept':[True, False],'normalize':[True, False],\n",
    "            'copy_X':[True, False],'positive':[True, False],\n",
    "            'n_jobs':range(0,20)}"
   ]
  },
  {
   "cell_type": "code",
   "execution_count": 41,
   "id": "e88a8156",
   "metadata": {},
   "outputs": [],
   "source": [
    "RSV1=RandomizedSearchCV(LinearRegression(),parameters1,cv=5)"
   ]
  },
  {
   "cell_type": "code",
   "execution_count": 42,
   "id": "f4ebc4a3",
   "metadata": {},
   "outputs": [
    {
     "data": {
      "text/plain": [
       "RandomizedSearchCV(cv=5, estimator=LinearRegression(),\n",
       "                   param_distributions={'copy_X': [True, False],\n",
       "                                        'fit_intercept': [True, False],\n",
       "                                        'n_jobs': range(0, 20),\n",
       "                                        'normalize': [True, False],\n",
       "                                        'positive': [True, False]})"
      ]
     },
     "execution_count": 42,
     "metadata": {},
     "output_type": "execute_result"
    }
   ],
   "source": [
    "RSV1.fit(x_train,y_train)"
   ]
  },
  {
   "cell_type": "code",
   "execution_count": 43,
   "id": "e6a20811",
   "metadata": {},
   "outputs": [
    {
     "data": {
      "text/plain": [
       "{'positive': False,\n",
       " 'normalize': True,\n",
       " 'n_jobs': 11,\n",
       " 'fit_intercept': True,\n",
       " 'copy_X': False}"
      ]
     },
     "execution_count": 43,
     "metadata": {},
     "output_type": "execute_result"
    }
   ],
   "source": [
    "RSV1.best_params_"
   ]
  },
  {
   "cell_type": "code",
   "execution_count": 44,
   "id": "e2cae981",
   "metadata": {},
   "outputs": [],
   "source": [
    "RSV1_pred=RSV1.best_estimator_.predict(x_test) "
   ]
  },
  {
   "cell_type": "code",
   "execution_count": 45,
   "id": "a4fb9bec",
   "metadata": {},
   "outputs": [
    {
     "data": {
      "text/plain": [
       "array([ 601.43834903,  567.67554406, 1427.58995788,  550.57003465,\n",
       "        860.55689983,  664.79491828,  767.09694045,  829.10561049,\n",
       "       1235.88754767, 1423.00559228,  603.8130024 , 1386.98938526,\n",
       "       1101.82524052, 1116.09242079,  629.73701718, 1422.68369151,\n",
       "       1431.69749469,  485.85271575,  489.00496967,  498.40424412,\n",
       "        567.92881336, 1267.11332298,  654.49877688, 1184.55308881,\n",
       "        573.66725345,  801.55431948,  915.18858241,  800.67855177,\n",
       "        746.1803624 ,  878.52734062, 1280.78599521,  826.2015596 ,\n",
       "       1093.22968726,  586.8966244 , 1088.32011276, 1087.70453707,\n",
       "       1407.42219271,  659.53500481,  549.66416904, 1003.80688897,\n",
       "       1244.95510178,  505.45794559,  661.02328961, 1132.17441934,\n",
       "        731.8910403 , 1171.95221962, 1006.70559372,  909.30177524,\n",
       "       1376.09099785, 1097.79764593, 1202.35118526,  783.04151058,\n",
       "        505.68432295,  623.51404261, 1098.955161  , 1270.22907644,\n",
       "        805.83539297, 1258.61459878,  520.01880428,  599.79354486,\n",
       "        690.95420713, 1396.95408174, 1340.19039518, 1094.44458018,\n",
       "        599.71335251,  853.29434014,  611.55496276,  541.4951209 ,\n",
       "        557.12198279,  472.71676161,  876.01289308,  521.93668921,\n",
       "       1352.72087249, 1281.87602646,  994.27590488,  815.79797188,\n",
       "       1333.80833752, 1205.45433195,  796.85030304,  876.28072466,\n",
       "        748.05753317,  862.98849163, 1352.01079836, 1424.88806314,\n",
       "        492.37268123, 1340.89661291, 1113.64649408,  628.89634816,\n",
       "       1222.02848273, 1423.42819938,  741.66445587, 1189.01693396,\n",
       "        960.09116376,  792.67160826,  554.46398705, 1070.19000777,\n",
       "        993.59572537, 1147.56049056, 1260.46729028,  831.30516299,\n",
       "        681.96936406,  493.7477664 ,  630.40551519,  900.23344518,\n",
       "       1343.89376085,  708.14632058,  826.31280654,  688.61358794,\n",
       "        988.89426254, 1199.64172823, 1274.42312367, 1335.38966537,\n",
       "        669.7235847 , 1049.93005374,  811.12120771,  669.03070423,\n",
       "       1163.95628258, 1262.52789113, 1195.1655707 ,  733.61805877,\n",
       "       1266.16962172, 1219.11708168, 1081.11796629,  893.81517055,\n",
       "        710.18328409,  505.76071547,  688.70377546, 1185.94689113,\n",
       "       1238.07644649, 1033.3537411 , 1287.8828243 ,  828.3847812 ,\n",
       "       1393.4699854 , 1161.73710205, 1203.13390445,  849.08681124,\n",
       "        595.55277813,  923.12392414,  729.47850636,  810.5450103 ,\n",
       "        660.91355545, 1194.2984615 ,  584.14984548, 1369.08406187,\n",
       "       1176.75331385, 1414.31836732,  913.89241501,  985.25479481,\n",
       "       1207.37965717, 1341.41498837, 1322.08320234, 1050.52851309,\n",
       "       1173.33716063, 1139.2875642 ,  506.23689811, 1215.56685554,\n",
       "        755.74847044,  976.06492719,  594.84964085, 1164.71111221,\n",
       "        847.47810464, 1285.69415119, 1373.26467772,  661.19709934,\n",
       "        487.07727762, 1001.12378517,  930.64825105,  820.33802029,\n",
       "       1435.21329576, 1274.6771731 ,  952.65904713,  765.76499762,\n",
       "        856.32913415,  753.62713124,  591.19873444, 1024.30599469,\n",
       "       1005.18030038,  765.45325769,  831.59569727, 1181.24280956,\n",
       "        632.11926755,  507.35267742, 1000.88464619, 1266.40177508,\n",
       "       1414.26355619,  790.25914856, 1403.80383373,  503.87641665,\n",
       "       1300.19351572,  555.70969871, 1003.87666427,  693.50117673,\n",
       "       1431.0252997 , 1287.35954281,  910.71989554, 1335.30389532,\n",
       "        954.66708528,  594.43359355,  750.3353991 , 1325.58194703,\n",
       "       1034.46462744, 1276.23438433, 1454.20169318,  587.27703089,\n",
       "        900.52035282,  526.6092713 , 1328.89707584, 1293.63194882,\n",
       "        986.60508455,  537.99678859, 1071.78887336, 1415.57231353,\n",
       "       1043.80326087,  662.63980955,  573.15686537,  676.42707505,\n",
       "       1271.46122003, 1422.36770605,  552.47269501, 1302.27877732,\n",
       "       1368.67838853, 1014.92734608,  813.09962401,  817.82744629,\n",
       "        490.74314493, 1260.06706577, 1245.20136093, 1174.1467532 ,\n",
       "       1393.18652263, 1366.19581335, 1014.7727015 ,  880.73532179,\n",
       "        763.97716754, 1295.61709213, 1249.7122026 , 1196.99146968,\n",
       "        840.88175496, 1137.3448858 ,  818.46593368, 1237.44791049,\n",
       "        949.53230236, 1195.69999047,  716.60073056,  946.92279883,\n",
       "       1070.31816091,  746.38262775,  810.03911557, 1046.82302407,\n",
       "        704.16829313, 1151.65880715, 1036.83097536, 1227.15314514,\n",
       "        849.85136578, 1399.73027514, 1037.92996222, 1060.92046062,\n",
       "        917.90344885,  513.47478534, 1082.74083419,  727.60413926,\n",
       "       1310.62248708,  786.9669076 ,  659.20547532, 1326.10675201,\n",
       "        910.18135933, 1319.42708681,  598.471076  , 1041.28635647,\n",
       "       1290.13710628, 1300.99805118, 1404.22150119, 1067.96706992,\n",
       "        495.42865888,  824.56548199, 1212.59966747, 1177.38525858,\n",
       "        715.52261364,  543.75429358,  511.77222009, 1430.6509338 ,\n",
       "        508.42545372,  702.31272244, 1120.37424825, 1351.48626931,\n",
       "        661.80114907, 1353.03512111,  963.29763113, 1332.76138307,\n",
       "        737.51463686,  845.2461816 ,  894.60159377,  981.45389303,\n",
       "       1112.322309  , 1259.43412203, 1424.13817323,  504.49332969,\n",
       "        568.41607142,  645.64443232, 1348.41305275, 1429.36050774,\n",
       "        540.79235369,  825.34094792, 1247.81250754,  620.98497373,\n",
       "       1255.74924374,  538.9957635 , 1041.12039641, 1412.84357635,\n",
       "        879.01546448, 1429.2028141 ,  940.82168665,  758.61016983,\n",
       "        583.92253625, 1102.26635587, 1325.81085089, 1002.66557407,\n",
       "        629.38359219, 1349.4052995 , 1022.79711317,  493.33051517,\n",
       "        550.75746989, 1287.44098753,  701.83608151,  630.77963257,\n",
       "        754.15509222, 1147.33095875, 1168.07627955, 1168.99176625,\n",
       "        490.26491238, 1256.28637467, 1248.06865589, 1026.54262144,\n",
       "        877.23888116, 1324.96873288,  989.73516982, 1041.07600911,\n",
       "        797.43527551,  535.29053216, 1301.59603222,  529.06768715,\n",
       "        790.0397566 ,  570.89257248,  571.20633599,  626.59004658,\n",
       "        598.78323672, 1007.30401844, 1254.19520223, 1219.99866115,\n",
       "       1282.62545717,  935.26207006,  966.87138601, 1151.64106925,\n",
       "       1200.37107515, 1222.45122576,  979.15214638, 1167.42039251,\n",
       "       1002.92639466, 1427.58448527,  884.98318523, 1062.71695482,\n",
       "        544.8137033 , 1376.55236509,  477.90159773, 1122.56036365,\n",
       "       1008.00550351,  880.84837689, 1358.13791084, 1081.07395313,\n",
       "       1045.19862048, 1436.09940652,  812.8696578 , 1316.58339693,\n",
       "       1077.27451711,  995.37741947, 1254.31191389,  697.82916915,\n",
       "        637.18517845, 1024.05233004,  628.90241363, 1375.61037159,\n",
       "        878.62928997,  923.68643018,  604.16199193, 1172.46927265,\n",
       "       1039.47885668,  865.74428601, 1452.4325778 , 1028.02999648,\n",
       "       1165.48371647,  736.93801391, 1100.41667463, 1291.9203929 ,\n",
       "       1270.54169562,  857.51500217,  533.6022958 ,  574.92849549,\n",
       "       1354.17745053, 1018.90793213,  504.3734946 , 1015.08441435,\n",
       "       1032.050068  ,  892.25718685,  890.95600279, 1398.98735997,\n",
       "        666.49946728,  659.0742887 , 1208.67387498,  880.06635709,\n",
       "       1148.19166229,  694.3552515 ,  869.02969681,  705.5758063 ,\n",
       "        682.14915627, 1111.81408486,  582.71153712,  771.194735  ,\n",
       "       1054.8919488 ,  830.23047104, 1445.64053408,  527.97534283,\n",
       "        988.22581444,  821.39484804,  821.51788252, 1141.70425736,\n",
       "       1270.55848441,  690.40656793,  522.08196291,  790.8749632 ,\n",
       "        949.68947121,  751.4655396 , 1074.31313147, 1428.99254857,\n",
       "        542.30452426,  949.55765253, 1006.82902641,  776.08133302,\n",
       "        688.39137889, 1346.89562488,  503.30461056, 1204.25918241,\n",
       "        505.00400503, 1337.43847238,  561.34240845, 1383.16802878,\n",
       "       1455.34801873,  686.29493063, 1031.85085372,  817.44376392,\n",
       "       1419.48158483, 1172.46504273, 1352.43039401,  841.72647672,\n",
       "        483.18842028, 1003.24871889, 1047.21683718,  804.03411686,\n",
       "       1008.95797423,  962.12662951, 1274.31460885, 1128.72621603,\n",
       "        664.58144878,  934.38193124,  730.56379552, 1348.87663374])"
      ]
     },
     "execution_count": 45,
     "metadata": {},
     "output_type": "execute_result"
    }
   ],
   "source": [
    "RSV1_pred"
   ]
  },
  {
   "cell_type": "code",
   "execution_count": 46,
   "id": "2a6c2eb0",
   "metadata": {},
   "outputs": [],
   "source": [
    "score1 = RSV1.score(x_train,y_train)"
   ]
  },
  {
   "cell_type": "markdown",
   "id": "f21d5ac4",
   "metadata": {},
   "source": [
    "AdaBoostRegressor"
   ]
  },
  {
   "cell_type": "code",
   "execution_count": 47,
   "id": "566286d7",
   "metadata": {},
   "outputs": [],
   "source": [
    "param2={'n_estimators': [20, 50, 70, 100], 'learning_rate' : [0.01,0.05,0.1,0.3,1],\n",
    "       'loss' : ['linear', 'square', 'exponential'],'random_state':range(0,20)}"
   ]
  },
  {
   "cell_type": "code",
   "execution_count": 48,
   "id": "bfb5821e",
   "metadata": {},
   "outputs": [],
   "source": [
    "RSV2=RandomizedSearchCV(AdaBoostRegressor(),param2,cv=5)"
   ]
  },
  {
   "cell_type": "code",
   "execution_count": 49,
   "id": "22ae0d78",
   "metadata": {},
   "outputs": [
    {
     "data": {
      "text/plain": [
       "RandomizedSearchCV(cv=5, estimator=AdaBoostRegressor(),\n",
       "                   param_distributions={'learning_rate': [0.01, 0.05, 0.1, 0.3,\n",
       "                                                          1],\n",
       "                                        'loss': ['linear', 'square',\n",
       "                                                 'exponential'],\n",
       "                                        'n_estimators': [20, 50, 70, 100],\n",
       "                                        'random_state': range(0, 20)})"
      ]
     },
     "execution_count": 49,
     "metadata": {},
     "output_type": "execute_result"
    }
   ],
   "source": [
    "RSV2.fit(x_train,y_train)"
   ]
  },
  {
   "cell_type": "code",
   "execution_count": 50,
   "id": "ce88246a",
   "metadata": {},
   "outputs": [],
   "source": [
    "RSV2_pred=RSV2.best_estimator_.predict(x_test)"
   ]
  },
  {
   "cell_type": "code",
   "execution_count": 51,
   "id": "fbfb0994",
   "metadata": {},
   "outputs": [
    {
     "data": {
      "text/plain": [
       "{'random_state': 4, 'n_estimators': 20, 'loss': 'square', 'learning_rate': 1}"
      ]
     },
     "execution_count": 51,
     "metadata": {},
     "output_type": "execute_result"
    }
   ],
   "source": [
    "RSV2.best_params_"
   ]
  },
  {
   "cell_type": "code",
   "execution_count": 52,
   "id": "886f80bb",
   "metadata": {},
   "outputs": [
    {
     "data": {
      "text/plain": [
       "array([ 602.86      ,  492.99250936, 1348.54393305,  492.99250936,\n",
       "        888.43243243,  709.11815562,  782.02247191,  869.3630137 ,\n",
       "       1224.14901961, 1348.54393305,  603.6519337 , 1348.54393305,\n",
       "       1109.53818182, 1109.53818182,  620.11357341, 1348.54393305,\n",
       "       1348.54393305,  333.1       ,  212.22282609,  355.63207547,\n",
       "        567.12448133, 1226.44700461,  665.51010101, 1217.8984375 ,\n",
       "        567.12448133,  869.3630137 ,  948.57586207,  869.3630137 ,\n",
       "        762.83404255,  901.80275229, 1253.07407407,  870.41916168,\n",
       "       1109.53818182,  567.12448133, 1109.53818182, 1101.70212766,\n",
       "       1348.54393305,  709.11815562,  492.99250936, 1044.43426295,\n",
       "       1224.14901961,  401.30147059,  672.60714286, 1112.40703518,\n",
       "        759.21333333, 1217.8984375 , 1044.43426295,  948.57586207,\n",
       "       1344.81040892, 1109.53818182, 1217.8984375 ,  821.01976285,\n",
       "        401.30147059,  603.6519337 , 1109.53818182, 1244.22408027,\n",
       "        869.3630137 , 1253.07407407,  410.39087948,  567.12448133,\n",
       "        736.96440129, 1348.54393305, 1326.20820189, 1109.13207547,\n",
       "        602.86      ,  882.23287671,  602.86      ,  492.99250936,\n",
       "        492.99250936,  333.1       ,  888.43243243,  418.8984375 ,\n",
       "       1341.08708709, 1253.07407407, 1028.79475983,  869.3630137 ,\n",
       "       1326.20820189, 1224.14901961,  869.3630137 ,  910.37640449,\n",
       "        762.83404255,  888.43243243, 1341.08708709, 1348.54393305,\n",
       "        355.63207547, 1326.20820189, 1109.53818182,  620.11357341,\n",
       "       1224.14901961, 1348.54393305,  762.83404255, 1217.8984375 ,\n",
       "        986.04142012,  869.3630137 ,  492.99250936, 1101.70212766,\n",
       "       1001.6010101 , 1165.13080169, 1226.44700461,  870.41916168,\n",
       "        732.84137931,  355.63207547,  652.57534247,  948.57586207,\n",
       "       1341.08708709,  746.47783251,  869.3630137 ,  732.84137931,\n",
       "       1001.6010101 , 1217.8984375 , 1253.07407407, 1326.20820189,\n",
       "        709.11815562, 1100.12820513,  869.3630137 ,  709.11815562,\n",
       "       1173.90454545, 1226.44700461, 1217.8984375 ,  759.21333333,\n",
       "       1253.07407407, 1224.14901961, 1101.70212766,  948.57586207,\n",
       "        736.96440129,  401.30147059,  725.34309623, 1217.8984375 ,\n",
       "       1226.44700461, 1060.93377483, 1253.07407407,  869.3630137 ,\n",
       "       1348.54393305, 1173.90454545, 1224.14901961,  888.43243243,\n",
       "        567.12448133,  948.57586207,  759.21333333,  869.3630137 ,\n",
       "        709.11815562, 1217.8984375 ,  567.12448133, 1344.81040892,\n",
       "       1217.8984375 , 1348.54393305,  948.57586207, 1028.79475983,\n",
       "       1224.14901961, 1326.20820189, 1326.20820189, 1100.12820513,\n",
       "       1217.8984375 , 1162.6       ,  401.30147059, 1224.14901961,\n",
       "        762.83404255,  994.27368421,  570.74568966, 1202.70075758,\n",
       "        882.23287671, 1326.20820189, 1348.54393305,  709.11815562,\n",
       "        333.1       , 1044.43426295,  948.57586207,  869.3630137 ,\n",
       "       1348.54393305, 1226.44700461,  993.30366492,  782.02247191,\n",
       "        888.43243243,  762.83404255,  567.12448133, 1065.11406844,\n",
       "       1044.43426295,  782.02247191,  869.3630137 , 1202.70075758,\n",
       "        609.3972973 ,  401.30147059, 1044.43426295, 1253.07407407,\n",
       "       1348.54393305,  869.3630137 , 1348.54393305,  355.63207547,\n",
       "       1325.63963964,  492.99250936, 1044.43426295,  736.96440129,\n",
       "       1348.54393305, 1253.07407407,  948.57586207, 1326.20820189,\n",
       "        993.30366492,  590.14285714,  782.02247191, 1326.20820189,\n",
       "       1065.11406844, 1253.07407407, 1348.54393305,  590.14285714,\n",
       "        948.57586207,  425.93333333, 1326.20820189, 1325.23472669,\n",
       "       1028.79475983,  492.99250936, 1101.70212766, 1348.54393305,\n",
       "       1071.13809524,  709.11815562,  567.12448133,  709.11815562,\n",
       "       1253.07407407, 1348.54393305,  492.99250936, 1326.20820189,\n",
       "       1344.81040892, 1044.43426295,  869.3630137 ,  869.3630137 ,\n",
       "        212.22282609, 1224.14901961, 1226.44700461, 1217.8984375 ,\n",
       "       1348.54393305, 1344.81040892, 1044.43426295,  910.37640449,\n",
       "        782.02247191, 1253.07407407, 1226.44700461, 1217.8984375 ,\n",
       "        882.23287671, 1138.94594595,  869.3630137 , 1224.14901961,\n",
       "        986.04142012, 1217.8984375 ,  759.21333333,  986.04142012,\n",
       "       1101.70212766,  762.83404255,  869.3630137 , 1100.12820513,\n",
       "        736.96440129, 1162.6       , 1071.13809524, 1224.14901961,\n",
       "        882.23287671, 1348.54393305, 1065.11406844, 1100.12820513,\n",
       "        948.57586207,  401.30147059, 1109.13207547,  759.21333333,\n",
       "       1325.23472669,  782.02247191,  652.57534247, 1326.20820189,\n",
       "        948.57586207, 1326.20820189,  602.86      , 1071.13809524,\n",
       "       1326.20820189, 1325.23472669, 1348.54393305, 1101.70212766,\n",
       "        355.63207547,  869.3630137 , 1217.8984375 , 1217.8984375 ,\n",
       "        746.47783251,  492.99250936,  401.30147059, 1348.54393305,\n",
       "        333.1       ,  736.96440129, 1112.40703518, 1341.08708709,\n",
       "        665.51010101, 1341.08708709,  993.30366492, 1326.20820189,\n",
       "        762.83404255,  888.43243243,  948.57586207,  994.27368421,\n",
       "       1112.40703518, 1224.14901961, 1348.54393305,  401.30147059,\n",
       "        492.99250936,  652.57534247, 1341.08708709, 1348.54393305,\n",
       "        437.58646617,  869.3630137 , 1224.14901961,  602.86      ,\n",
       "       1226.44700461,  460.66768293, 1100.12820513, 1348.54393305,\n",
       "        910.37640449, 1348.54393305,  959.92576419,  782.02247191,\n",
       "        590.14285714, 1109.53818182, 1326.20820189, 1028.79475983,\n",
       "        620.11357341, 1341.08708709, 1060.93377483,  333.25523013,\n",
       "        442.26600985, 1253.07407407,  736.96440129,  609.3972973 ,\n",
       "        762.83404255, 1165.13080169, 1173.90454545, 1217.8984375 ,\n",
       "        355.63207547, 1224.14901961, 1224.14901961, 1060.93377483,\n",
       "        948.57586207, 1326.20820189, 1028.79475983, 1100.12820513,\n",
       "        869.3630137 ,  418.8984375 , 1326.20820189,  425.93333333,\n",
       "        869.3630137 ,  567.12448133,  567.12448133,  620.11357341,\n",
       "        570.74568966, 1044.43426295, 1224.14901961, 1224.14901961,\n",
       "       1253.07407407,  959.92576419,  993.30366492, 1165.13080169,\n",
       "       1217.8984375 , 1224.14901961,  986.04142012, 1217.8984375 ,\n",
       "       1044.43426295, 1348.54393305,  910.37640449, 1100.12820513,\n",
       "        492.99250936, 1348.54393305,  212.22282609, 1112.40703518,\n",
       "       1044.43426295,  910.37640449, 1348.54393305, 1101.70212766,\n",
       "       1100.12820513, 1348.54393305,  869.3630137 , 1326.20820189,\n",
       "       1101.70212766, 1028.79475983, 1224.14901961,  746.47783251,\n",
       "        620.11357341, 1065.11406844,  652.57534247, 1348.54393305,\n",
       "        910.37640449,  948.57586207,  602.86      , 1217.8984375 ,\n",
       "       1100.12820513,  888.43243243, 1348.54393305, 1060.93377483,\n",
       "       1204.65753425,  762.83404255, 1109.53818182, 1254.00406504,\n",
       "       1253.07407407,  888.43243243,  425.93333333,  567.12448133,\n",
       "       1326.20820189, 1060.93377483,  401.30147059, 1044.43426295,\n",
       "       1071.13809524,  948.57586207,  948.57586207, 1348.54393305,\n",
       "        709.11815562,  709.11815562, 1217.8984375 ,  899.66666667,\n",
       "       1173.90454545,  732.84137931,  910.37640449,  736.96440129,\n",
       "        709.11815562, 1109.53818182,  567.12448133,  782.02247191,\n",
       "       1100.12820513,  869.3630137 , 1348.54393305,  425.93333333,\n",
       "        994.27368421,  869.3630137 ,  869.3630137 , 1162.6       ,\n",
       "       1226.44700461,  732.84137931,  401.30147059,  854.52542373,\n",
       "        986.04142012,  762.83404255, 1101.70212766, 1348.54393305,\n",
       "        425.93333333,  982.06545455, 1044.43426295,  782.02247191,\n",
       "        732.84137931, 1326.20820189,  401.30147059, 1224.14901961,\n",
       "        401.30147059, 1326.20820189,  546.42222222, 1348.54393305,\n",
       "       1348.54393305,  709.11815562, 1065.11406844,  869.3630137 ,\n",
       "       1348.54393305, 1217.8984375 , 1341.08708709,  882.23287671,\n",
       "        219.5902439 , 1028.79475983, 1100.12820513,  869.3630137 ,\n",
       "       1060.93377483,  986.04142012, 1253.07407407, 1165.13080169,\n",
       "        709.11815562,  972.0373444 ,  759.21333333, 1326.20820189])"
      ]
     },
     "execution_count": 52,
     "metadata": {},
     "output_type": "execute_result"
    }
   ],
   "source": [
    "RSV2_pred"
   ]
  },
  {
   "cell_type": "code",
   "execution_count": 53,
   "id": "c6fc4092",
   "metadata": {},
   "outputs": [],
   "source": [
    "score2 = RSV2.score(x_train,y_train)"
   ]
  },
  {
   "cell_type": "markdown",
   "id": "ee03d542",
   "metadata": {},
   "source": [
    "ElasticNet"
   ]
  },
  {
   "cell_type": "code",
   "execution_count": 54,
   "id": "2b66d321",
   "metadata": {},
   "outputs": [],
   "source": [
    "parameters3={'fit_intercept':[True, False],'normalize':[True, False],'precompute':[True, False],\n",
    "            'copy_X':[True, False],'positive':[True, False],'warm_start':[True, False],\n",
    "            'random_state':range(0,20),'l1_ratio':[0.5,1], 'selection':['cyclic','random']}"
   ]
  },
  {
   "cell_type": "code",
   "execution_count": 55,
   "id": "0cc3d34a",
   "metadata": {},
   "outputs": [],
   "source": [
    "RSV3=RandomizedSearchCV(ElasticNet(alpha=0.0001),parameters3,cv=5)"
   ]
  },
  {
   "cell_type": "code",
   "execution_count": 56,
   "id": "519d439a",
   "metadata": {},
   "outputs": [
    {
     "data": {
      "text/plain": [
       "RandomizedSearchCV(cv=5, estimator=ElasticNet(alpha=0.0001),\n",
       "                   param_distributions={'copy_X': [True, False],\n",
       "                                        'fit_intercept': [True, False],\n",
       "                                        'l1_ratio': [0.5, 1],\n",
       "                                        'normalize': [True, False],\n",
       "                                        'positive': [True, False],\n",
       "                                        'precompute': [True, False],\n",
       "                                        'random_state': range(0, 20),\n",
       "                                        'selection': ['cyclic', 'random'],\n",
       "                                        'warm_start': [True, False]})"
      ]
     },
     "execution_count": 56,
     "metadata": {},
     "output_type": "execute_result"
    }
   ],
   "source": [
    "RSV3.fit(x_train,y_train)"
   ]
  },
  {
   "cell_type": "code",
   "execution_count": 57,
   "id": "3d4fd1d3",
   "metadata": {},
   "outputs": [
    {
     "data": {
      "text/plain": [
       "{'warm_start': False,\n",
       " 'selection': 'cyclic',\n",
       " 'random_state': 9,\n",
       " 'precompute': False,\n",
       " 'positive': True,\n",
       " 'normalize': True,\n",
       " 'l1_ratio': 1,\n",
       " 'fit_intercept': False,\n",
       " 'copy_X': True}"
      ]
     },
     "execution_count": 57,
     "metadata": {},
     "output_type": "execute_result"
    }
   ],
   "source": [
    "RSV3.best_params_"
   ]
  },
  {
   "cell_type": "code",
   "execution_count": 58,
   "id": "5117c2f8",
   "metadata": {},
   "outputs": [],
   "source": [
    "RSV3_pred=RSV3.best_estimator_.predict(x_test) "
   ]
  },
  {
   "cell_type": "code",
   "execution_count": 59,
   "id": "71fbd9b1",
   "metadata": {},
   "outputs": [
    {
     "data": {
      "text/plain": [
       "array([ 603.03916472,  568.11110803, 1439.21096873,  547.18391993,\n",
       "        854.85289297,  661.90119944,  771.10873159,  829.97167813,\n",
       "       1232.74409021, 1417.73353502,  612.55410125, 1392.94195351,\n",
       "       1087.91256476, 1108.25749652,  624.68643489, 1423.5518652 ,\n",
       "       1420.10701839,  490.98713354,  481.30164914,  497.67485286,\n",
       "        571.42351428, 1264.79371106,  650.63417329, 1180.34568154,\n",
       "        581.88449979,  803.27977271,  904.02263927,  802.41720325,\n",
       "        735.45553505,  867.71550016, 1278.54621528,  830.47797288,\n",
       "       1088.40214921,  584.79291662, 1091.99006997, 1082.97696594,\n",
       "       1403.4183113 ,  671.48289047,  558.66746014, 1005.02193404,\n",
       "       1245.07571875,  515.56071906,  657.60624244, 1118.20190144,\n",
       "        723.12887404, 1171.42244995, 1007.95579981,  918.62316096,\n",
       "       1373.23740201, 1094.96624978, 1203.12888091,  782.3666345 ,\n",
       "        513.98646338,  618.22581237, 1093.10163623, 1272.31766985,\n",
       "        798.96175455, 1269.87162731,  526.12141589,  591.59178677,\n",
       "        699.69427771, 1394.71632764, 1348.76492392, 1090.03282945,\n",
       "        602.24582001,  844.45522254,  610.04434731,  553.00073718,\n",
       "        559.45957618,  490.33240633,  859.33224274,  529.44649502,\n",
       "       1365.82722245, 1280.76312834,  987.88642021,  804.06933629,\n",
       "       1340.81982019, 1207.0395934 ,  789.98640379,  875.95069059,\n",
       "        745.30681206,  853.64580991, 1364.38584948, 1423.50165343,\n",
       "        499.57061574, 1343.42875257, 1114.7906184 ,  627.41034743,\n",
       "       1235.75484119, 1423.08252975,  735.43842852, 1185.33960005,\n",
       "        949.8564275 ,  795.41598568,  552.53251056, 1068.06142507,\n",
       "        985.42874785, 1154.3097819 , 1265.17398263,  831.88213336,\n",
       "        683.51091158,  499.95437331,  635.43466415,  907.47287188,\n",
       "       1349.56707442,  710.977462  ,  827.20254324,  689.04065288,\n",
       "        982.4529843 , 1195.09203334, 1269.63800423, 1331.43230368,\n",
       "        677.03405321, 1047.96683477,  824.19111765,  675.83573527,\n",
       "       1157.6406567 , 1261.57224968, 1188.8094983 ,  719.10837028,\n",
       "       1272.54048434, 1215.53996722, 1076.18337828,  887.7745939 ,\n",
       "        704.30895422,  511.68983639,  680.95626467, 1186.35128724,\n",
       "       1260.04112375, 1027.36553778, 1284.46476379,  819.93073835,\n",
       "       1404.69073474, 1153.65340927, 1209.95050253,  850.11032446,\n",
       "        589.16426366,  923.86043506,  724.67089571,  821.84108083,\n",
       "        663.43787752, 1189.62998967,  591.17063261, 1377.34594509,\n",
       "       1173.62827093, 1405.9563635 ,  910.10966203,  990.34402394,\n",
       "       1214.93182945, 1342.31649014, 1338.14543846, 1046.55113551,\n",
       "       1170.96480937, 1141.91785773,  505.90462322, 1214.7170973 ,\n",
       "        745.09537973,  977.23343689,  595.33883253, 1165.55482935,\n",
       "        851.41698422, 1296.99622868, 1392.24154172,  658.62476451,\n",
       "        492.36260246, 1005.18707252,  924.8869192 ,  816.32821086,\n",
       "       1430.15672626, 1270.67513619,  967.32045225,  764.16428219,\n",
       "        853.42543392,  747.1738916 ,  586.61505189, 1029.56172161,\n",
       "       1010.79290898,  762.96748181,  828.69713671, 1157.40878579,\n",
       "        621.78651891,  517.17421567, 1001.11759851, 1272.91708208,\n",
       "       1415.65716136,  794.40035412, 1414.17865689,  500.82455948,\n",
       "       1303.71638029,  559.23123787, 1003.08910277,  699.39062175,\n",
       "       1425.96548944, 1283.9570058 ,  911.60340776, 1338.74476849,\n",
       "        963.35624728,  598.49278628,  771.57875397, 1318.66640322,\n",
       "       1030.92163417, 1267.74261061, 1460.59594787,  595.78099311,\n",
       "        899.7335715 ,  537.68560236, 1338.50954685, 1303.86083578,\n",
       "        991.72699363,  546.25898686, 1067.67647586, 1426.24495079,\n",
       "       1034.21106992,  662.35594122,  577.91985579,  678.59122514,\n",
       "       1269.1838837 , 1435.3230997 ,  562.82221885, 1316.29974712,\n",
       "       1373.55300862, 1011.86591003,  805.07882303,  805.29784145,\n",
       "        480.93019565, 1256.83808065, 1262.05561096, 1182.11395956,\n",
       "       1393.8646257 , 1374.11205226, 1012.78387132,  875.96779712,\n",
       "        761.20749836, 1284.70946188, 1262.83196286, 1194.76784771,\n",
       "        832.52015492, 1135.9828079 ,  819.15954322, 1239.07012702,\n",
       "        956.34476024, 1189.57973305,  718.96352789,  950.23809026,\n",
       "       1064.86964221,  735.37588498,  827.55655617, 1039.7880847 ,\n",
       "        698.36677828, 1149.74467652, 1035.04819461, 1229.327474  ,\n",
       "        845.94604911, 1404.74473489, 1025.82102738, 1057.54219086,\n",
       "        916.93500096,  519.27070417, 1084.57578346,  722.95140478,\n",
       "       1301.76272313,  781.13867615,  651.89040733, 1328.76259488,\n",
       "        903.15376451, 1313.67414134,  600.17806313, 1038.04918677,\n",
       "       1305.45806196, 1301.5723698 , 1403.53449968, 1065.92114046,\n",
       "        500.32595241,  824.69466616, 1200.93851124, 1184.30278492,\n",
       "        710.37601305,  553.50812738,  520.01722483, 1429.10036379,\n",
       "        498.84111187,  701.47576396, 1122.2969148 , 1353.93344156,\n",
       "        646.73221069, 1356.7453804 ,  966.4921608 , 1330.79506489,\n",
       "        730.52371775,  857.98901084,  887.24058547,  982.2886306 ,\n",
       "       1119.52201028, 1249.43963366, 1427.78790755,  509.54667341,\n",
       "        562.68944778,  636.39537784, 1356.19460255, 1439.51489392,\n",
       "        541.97344367,  817.60268843, 1235.88786962,  609.71843059,\n",
       "       1263.92639346,  544.75306266, 1039.47596864, 1406.00853355,\n",
       "        876.81671002, 1424.96240839,  936.95618107,  770.81520299,\n",
       "        595.43760206, 1100.77636408, 1329.60084224,  994.46357067,\n",
       "        630.4179901 , 1358.73900011, 1022.51305591,  493.76182466,\n",
       "        545.18380739, 1286.63085989,  693.61468166,  621.33662897,\n",
       "        747.59301529, 1154.31822258, 1165.36666104, 1168.1493889 ,\n",
       "        497.27439406, 1254.17568609, 1251.59111284, 1019.40327603,\n",
       "        882.65864236, 1323.29316368,  994.42611083, 1044.83839221,\n",
       "        806.2121461 ,  526.62761613, 1308.48830281,  532.44501189,\n",
       "        792.19973118,  584.63602187,  570.13570519,  627.90324801,\n",
       "        593.55650905, 1005.11027678, 1257.09244533, 1216.05571132,\n",
       "       1282.31659832,  929.49008974,  966.40356508, 1155.0507014 ,\n",
       "       1187.5927721 , 1229.98235212,  954.03135397, 1171.73593475,\n",
       "       1008.22427899, 1431.95457949,  880.8778062 , 1056.96818893,\n",
       "        550.66833878, 1390.1214479 ,  482.60465991, 1124.39253321,\n",
       "       1010.77563892,  874.63353165, 1374.07759946, 1076.01925095,\n",
       "       1057.25169547, 1429.536594  ,  817.12646835, 1326.04013956,\n",
       "       1072.66107123,  994.06572806, 1248.33939254,  707.68232824,\n",
       "        629.1884898 , 1022.70226534,  637.17753086, 1380.39573632,\n",
       "        880.88665218,  926.58651091,  601.24275   , 1173.14500011,\n",
       "       1041.20581947,  859.69711381, 1447.09741053, 1026.51473227,\n",
       "       1165.88117173,  733.12469501, 1106.38648986, 1294.31163176,\n",
       "       1272.93418861,  852.57749355,  538.46620743,  581.56401611,\n",
       "       1347.8762737 , 1023.46511996,  512.26242407, 1007.51556122,\n",
       "       1036.41037248,  885.36173684,  896.24978687, 1383.58765552,\n",
       "        670.6410534 ,  680.64874803, 1188.64205333,  873.0970171 ,\n",
       "       1158.17956191,  692.67416665,  877.42438501,  705.86454918,\n",
       "        678.752406  , 1106.81958493,  578.18630967,  772.91201225,\n",
       "       1054.91650261,  815.63905435, 1454.76582817,  535.36177114,\n",
       "        979.95478091,  815.60484129,  798.81760928, 1143.63280027,\n",
       "       1268.42589126,  692.92953128,  525.31990931,  788.95483136,\n",
       "        946.85226262,  745.0782732 , 1075.4726424 , 1430.9141385 ,\n",
       "        532.20807979,  940.50160171, 1001.5900773 ,  767.39562156,\n",
       "        687.43143159, 1350.19925829,  511.00505303, 1207.86028528,\n",
       "        514.65947358, 1339.64804664,  566.59503868, 1392.21485028,\n",
       "       1457.98946077,  670.27708696, 1032.28382381,  811.36171154,\n",
       "       1430.43618761, 1174.02570146, 1361.88861922,  836.98929474,\n",
       "        494.00359294,  994.81344386, 1043.42701616,  802.20359794,\n",
       "       1008.03293648,  953.32019938, 1283.93161446, 1156.26091862,\n",
       "        668.19354014,  935.4056827 ,  725.50914307, 1338.78124243])"
      ]
     },
     "execution_count": 59,
     "metadata": {},
     "output_type": "execute_result"
    }
   ],
   "source": [
    "RSV3_pred"
   ]
  },
  {
   "cell_type": "code",
   "execution_count": 60,
   "id": "75a641e6",
   "metadata": {},
   "outputs": [],
   "source": [
    "score3 = RSV3.score(x_train,y_train)"
   ]
  },
  {
   "cell_type": "markdown",
   "id": "64fdc9c9",
   "metadata": {},
   "source": [
    "KNeighborsRegressor"
   ]
  },
  {
   "cell_type": "code",
   "execution_count": 61,
   "id": "45ac6f9b",
   "metadata": {},
   "outputs": [],
   "source": [
    "parameters4={'weights':['uniform','distance'],'algorithm':['auto','ball_tree','kd_tree','brute'],\n",
    "            'n_jobs':range(0,20)}"
   ]
  },
  {
   "cell_type": "code",
   "execution_count": 62,
   "id": "2954cbde",
   "metadata": {},
   "outputs": [],
   "source": [
    "RSV4=RandomizedSearchCV(KNeighborsRegressor(),parameters4,cv=5)"
   ]
  },
  {
   "cell_type": "code",
   "execution_count": 63,
   "id": "8bb0675f",
   "metadata": {},
   "outputs": [
    {
     "data": {
      "text/plain": [
       "RandomizedSearchCV(cv=5, estimator=KNeighborsRegressor(),\n",
       "                   param_distributions={'algorithm': ['auto', 'ball_tree',\n",
       "                                                      'kd_tree', 'brute'],\n",
       "                                        'n_jobs': range(0, 20),\n",
       "                                        'weights': ['uniform', 'distance']})"
      ]
     },
     "execution_count": 63,
     "metadata": {},
     "output_type": "execute_result"
    }
   ],
   "source": [
    "RSV4.fit(x_train,y_train)"
   ]
  },
  {
   "cell_type": "code",
   "execution_count": 64,
   "id": "6100a02b",
   "metadata": {},
   "outputs": [
    {
     "data": {
      "text/plain": [
       "{'weights': 'distance', 'n_jobs': 1, 'algorithm': 'kd_tree'}"
      ]
     },
     "execution_count": 64,
     "metadata": {},
     "output_type": "execute_result"
    }
   ],
   "source": [
    "RSV4.best_params_"
   ]
  },
  {
   "cell_type": "code",
   "execution_count": 65,
   "id": "432f8191",
   "metadata": {},
   "outputs": [],
   "source": [
    "RSV4_pred=RSV4.best_estimator_.predict(x_test) "
   ]
  },
  {
   "cell_type": "code",
   "execution_count": 66,
   "id": "e8d248d1",
   "metadata": {},
   "outputs": [
    {
     "data": {
      "text/plain": [
       "array([ 701.7687636 ,  721.85422165, 1272.73578338,  615.72498311,\n",
       "        871.28684685,  655.58846816,  487.72064703,  873.25476552,\n",
       "       1257.03784045, 1331.78449926,  549.60082023, 1264.77950642,\n",
       "       1073.12287155, 1163.44696754,  678.6327457 , 1286.22465262,\n",
       "       1312.50690141,  586.13924451,  627.39824295,  548.12185626,\n",
       "        676.31218222, 1250.02954965,  742.90851451, 1170.25643667,\n",
       "        563.94372501,  850.43711614,  999.92485161,  850.68745946,\n",
       "        699.24580794,  899.81423819, 1219.6079544 ,  829.01717988,\n",
       "       1102.13950525,  705.21489526, 1132.23458811, 1014.92278986,\n",
       "        962.81832308,  701.46920124,  513.4596436 ,  977.07720676,\n",
       "       1211.37823535,  727.66486289,  846.71932872, 1190.86775694,\n",
       "        715.795359  , 1186.34564033, 1061.56449213,  939.56841028,\n",
       "       1258.06898781, 1161.60734174, 1120.56486868,  808.5487502 ,\n",
       "        456.15813719,  654.2965218 , 1090.73327629, 1239.10200764,\n",
       "        777.76601705, 1173.74000869, 1115.96726851,  658.03057261,\n",
       "        464.91323629, 1265.93406331, 1229.33477845, 1158.9210905 ,\n",
       "        551.15179998,  845.98776105,  734.38970688,  527.99666941,\n",
       "        650.16031061,  674.3116949 ,  965.24861769,  657.35249219,\n",
       "       1239.48285883, 1276.51520159,  957.41114045,  927.80358755,\n",
       "       1258.86247338, 1170.42634673,  666.20325659,  908.19263127,\n",
       "        806.02456397,  931.28295137, 1327.29422987, 1318.51119697,\n",
       "        573.46693635, 1312.02013509, 1163.53160629,  716.97852523,\n",
       "       1103.0792406 , 1214.45266165,  742.13854247, 1161.94959281,\n",
       "        990.01579528,  827.69851551,  965.55719996, 1223.14025793,\n",
       "        971.83976548, 1203.29464774, 1194.01331453,  857.54095246,\n",
       "        737.31929686,  568.62692051,  960.93688413,  858.90984745,\n",
       "       1306.43805562,  734.52596877,  758.51380421,  705.35903788,\n",
       "       1068.8656708 , 1194.25128811, 1234.16853005, 1271.22583302,\n",
       "        829.80739163, 1031.26446046, 1247.59087409, 1051.8826094 ,\n",
       "       1146.17762525, 1215.50984303, 1151.7204578 ,  682.54350608,\n",
       "       1241.45206908, 1186.07086075, 1071.80720811,  860.96094055,\n",
       "        746.63266182,  552.62428568,  593.50362779, 1132.79992544,\n",
       "       1185.0363293 , 1115.71407901, 1230.1808776 ,  853.89190067,\n",
       "       1204.16967758, 1236.96347014, 1213.34460196, 1052.69567237,\n",
       "        623.36282413,  839.50380094,  721.82568781,  722.56912929,\n",
       "        772.09326017, 1243.03576307,  786.78832165, 1218.47350799,\n",
       "       1205.15046711, 1263.11462392,  848.52654345,  940.40958251,\n",
       "       1263.25595299, 1214.04257826, 1259.13405139, 1093.03421101,\n",
       "        960.51647329, 1186.64201542,  515.20364153, 1223.49815024,\n",
       "        676.13753529,  961.30395451,  599.4032055 , 1157.06504588,\n",
       "       1021.0722959 , 1208.79638604, 1086.07704683,  618.98344694,\n",
       "        554.4347921 , 1067.17930014, 1058.90640915,  765.77610515,\n",
       "       1272.7216033 , 1212.66824145, 1000.2277013 ,  734.2203435 ,\n",
       "        864.71552052,  865.51303758,  771.46653256, 1040.90017037,\n",
       "       1087.92968947,  823.97916909,  810.22739044, 1156.84848614,\n",
       "        696.19847902,  943.76617162, 1071.15952339, 1281.22982661,\n",
       "       1099.53829454,  725.30706061, 1342.30586486,  662.81923327,\n",
       "       1282.81120736,  657.17180717,  992.11879004,  702.84230265,\n",
       "       1320.29530792, 1217.65879765,  853.95008558, 1262.70198691,\n",
       "       1066.07590995,  627.83201078,  743.44454411, 1174.10602266,\n",
       "       1016.75655935, 1255.94082379, 1259.6213858 , 1040.10111737,\n",
       "        992.90342799,  802.39954846, 1248.32345415, 1241.32616575,\n",
       "       1061.82763997,  597.36914914, 1107.43930082, 1291.24005984,\n",
       "       1021.30075618,  595.88514539,  520.0252704 ,  700.40706707,\n",
       "       1233.84912966, 1292.91478616,  532.76027724, 1141.54240016,\n",
       "       1171.75493085,  965.16237258,  847.4800139 ,  665.37077675,\n",
       "        699.68335011, 1151.62851604, 1210.06783381, 1199.64823395,\n",
       "       1317.66086503, 1255.29501234, 1142.05298234,  881.5185329 ,\n",
       "        751.6207288 , 1230.48891031, 1167.29949619, 1112.56148585,\n",
       "        861.43274016, 1139.69031095,  804.59913501, 1228.04539249,\n",
       "        903.57364578, 1157.50845853,  807.00331306,  986.39855111,\n",
       "       1125.03333219,  774.04131618,  831.23004969,  995.66404842,\n",
       "        841.62345671, 1049.52497601, 1022.38442969, 1222.56154858,\n",
       "        912.53187959, 1263.70393233, 1082.97006902, 1154.35338108,\n",
       "        930.89731004,  662.4004842 , 1126.31714182,  776.71186103,\n",
       "       1202.81486403,  809.99041155,  893.64411649, 1221.96438762,\n",
       "        945.87711517, 1297.68747696,  574.27053662, 1046.33250901,\n",
       "       1163.57451175, 1276.59814357, 1268.04677361, 1084.09956439,\n",
       "        665.63164541, 1013.52534018, 1192.5231431 , 1261.6971102 ,\n",
       "        732.68026137,  522.58297484,  524.79187653, 1192.48337027,\n",
       "        611.33118847,  678.40596002, 1085.63747718, 1255.36552034,\n",
       "        633.20166413, 1298.76674519,  925.36708269, 1262.28450608,\n",
       "        800.3997839 ,  960.01043252,  873.35233533, 1147.5455114 ,\n",
       "       1116.98594846, 1292.16640986, 1267.1129298 ,  578.97309198,\n",
       "        704.07156997,  695.55928202, 1251.88572338, 1211.2877403 ,\n",
       "        723.82171626,  812.54356612, 1081.93889002,  550.57566234,\n",
       "       1196.07276678,  430.56571599, 1089.3731786 , 1272.94765003,\n",
       "        894.0583827 , 1127.6246279 ,  893.70906514,  836.93617337,\n",
       "        630.17978584, 1239.56235029, 1093.66470399, 1053.62748433,\n",
       "        670.59561452, 1205.31015778, 1039.509362  ,  499.69155307,\n",
       "        519.38166167, 1275.70550202,  762.39696792,  668.32331747,\n",
       "        814.99888959, 1210.9589292 , 1085.89942347, 1161.93605747,\n",
       "        707.69115572, 1234.98844251, 1217.61717361, 1114.85715561,\n",
       "        844.64062092, 1269.40729526,  971.85700454, 1114.86354818,\n",
       "        876.96360333,  538.66105294, 1283.70540424,  559.90193197,\n",
       "        871.48936958,  608.9269906 ,  648.44659255,  649.79680074,\n",
       "        685.1795905 , 1017.09394789, 1219.18689787, 1231.39218942,\n",
       "       1200.70082307, 1001.97061034,  968.69940536, 1159.49780703,\n",
       "       1279.64970195, 1207.32728009,  998.30405655,  932.66583443,\n",
       "       1153.09145766, 1291.59167531,  938.60568584, 1075.40780277,\n",
       "        636.94605666, 1294.08847965,  559.05170257, 1194.69470562,\n",
       "       1030.59674586,  862.0195353 , 1252.61237173, 1002.28527462,\n",
       "       1156.83944044, 1310.0408607 ,  940.97703082, 1201.6499026 ,\n",
       "       1044.78578269, 1048.01113105, 1236.41609387,  676.49731385,\n",
       "        709.35909874,  982.65498194,  659.82517683, 1280.46430895,\n",
       "        836.87782571,  976.33324177,  644.00472129, 1056.44321677,\n",
       "       1035.62633195,  841.02694355, 1304.54894459,  958.12251879,\n",
       "       1109.80493587,  836.08216993, 1117.62105044, 1251.11384632,\n",
       "       1265.0921159 ,  884.96900624,  612.37325363,  544.57084572,\n",
       "       1230.87388395, 1077.7670617 ,  613.56080387, 1170.0316722 ,\n",
       "       1007.31990773,  981.31939814, 1196.15056661, 1199.40637405,\n",
       "        589.0827247 ,  707.8725587 , 1165.79034841,  968.77358844,\n",
       "       1111.3562127 ,  920.62084294,  903.19640223,  729.65024094,\n",
       "        670.49312291, 1157.082635  ,  711.08354207,  696.95596589,\n",
       "       1095.17751717,  827.10583715, 1304.37736675,  668.45790203,\n",
       "       1008.81149828,  852.39563289,  808.27988673, 1088.38293128,\n",
       "       1260.53941784,  979.7159089 ,  511.06277911,  786.79283271,\n",
       "       1087.54606902,  760.30371433, 1041.36442542, 1273.13877467,\n",
       "        730.23990617, 1058.93044674,  987.30069525,  720.80129614,\n",
       "        748.49996584, 1162.14283173,  711.15230076, 1309.21291592,\n",
       "        654.70010196, 1267.56927219,  544.88026608, 1165.66413898,\n",
       "       1289.64338668,  805.24030525, 1003.85824597,  818.98047917,\n",
       "       1214.90215389, 1152.4113831 , 1235.8244036 ,  771.07367113,\n",
       "        613.66087612, 1010.57802406, 1077.43012431,  993.43360834,\n",
       "       1069.23563966,  998.29462673, 1261.85494785, 1057.88417011,\n",
       "        691.88924084,  901.04301243,  768.57809806, 1336.54463658])"
      ]
     },
     "execution_count": 66,
     "metadata": {},
     "output_type": "execute_result"
    }
   ],
   "source": [
    "RSV4_pred"
   ]
  },
  {
   "cell_type": "code",
   "execution_count": 67,
   "id": "766b072f",
   "metadata": {},
   "outputs": [],
   "source": [
    "score4 = RSV4.score(x_train,y_train)"
   ]
  },
  {
   "cell_type": "markdown",
   "id": "2d36771e",
   "metadata": {},
   "source": [
    "DecisionTreeRegressor"
   ]
  },
  {
   "cell_type": "code",
   "execution_count": 68,
   "id": "2d07f366",
   "metadata": {},
   "outputs": [],
   "source": [
    "parameters5={'criterion':['mse', \"friedman_mse\", \"mae\", 'poisson'],'splitter':['best','random'],\n",
    "            'max_features':['auto','sqrt','log2'],'random_state':range(0,20)}"
   ]
  },
  {
   "cell_type": "code",
   "execution_count": 69,
   "id": "1d78171f",
   "metadata": {},
   "outputs": [],
   "source": [
    "RSV5=RandomizedSearchCV(DecisionTreeRegressor(),parameters5,cv=5)"
   ]
  },
  {
   "cell_type": "code",
   "execution_count": 70,
   "id": "979dff9c",
   "metadata": {},
   "outputs": [
    {
     "data": {
      "text/plain": [
       "RandomizedSearchCV(cv=5, estimator=DecisionTreeRegressor(),\n",
       "                   param_distributions={'criterion': ['mse', 'friedman_mse',\n",
       "                                                      'mae', 'poisson'],\n",
       "                                        'max_features': ['auto', 'sqrt',\n",
       "                                                         'log2'],\n",
       "                                        'random_state': range(0, 20),\n",
       "                                        'splitter': ['best', 'random']})"
      ]
     },
     "execution_count": 70,
     "metadata": {},
     "output_type": "execute_result"
    }
   ],
   "source": [
    "RSV5.fit(x_train,y_train)"
   ]
  },
  {
   "cell_type": "code",
   "execution_count": 71,
   "id": "ad4bcdec",
   "metadata": {},
   "outputs": [
    {
     "data": {
      "text/plain": [
       "{'splitter': 'best',\n",
       " 'random_state': 6,\n",
       " 'max_features': 'auto',\n",
       " 'criterion': 'poisson'}"
      ]
     },
     "execution_count": 71,
     "metadata": {},
     "output_type": "execute_result"
    }
   ],
   "source": [
    "RSV5.best_params_"
   ]
  },
  {
   "cell_type": "code",
   "execution_count": 72,
   "id": "2fef0ef2",
   "metadata": {},
   "outputs": [],
   "source": [
    "RSV5_pred=RSV5.best_estimator_.predict(x_test)"
   ]
  },
  {
   "cell_type": "code",
   "execution_count": 73,
   "id": "f8f7dcc5",
   "metadata": {},
   "outputs": [
    {
     "data": {
      "text/plain": [
       "array([ 590.,  500., 1381.,  490.,  900.,  680.,  800.,  850., 1220.,\n",
       "       1370.,  610., 1353., 1120., 1120.,  630., 1380., 1381.,  290.,\n",
       "        190.,  340.,  541., 1250.,  660., 1190.,  550.,  850.,  940.,\n",
       "        850.,  790.,  910., 1260.,  860., 1110.,  550., 1110., 1104.,\n",
       "       1362.,  700.,  500., 1040., 1230.,  390.,  663., 1123.,  775.,\n",
       "       1185., 1040.,  950., 1334., 1120., 1209.,  820.,  390.,  620.,\n",
       "       1120., 1255.,  840., 1260.,  650.,  570.,  750., 1350., 1310.,\n",
       "       1110.,  588.,  880.,  600.,  490.,  625.,  390.,  900.,  429.,\n",
       "       1320., 1262., 1026.,  850., 1306., 1213.,  840.,  920.,  790.,\n",
       "        900., 1320., 1381.,  350., 1306., 1120.,  630., 1220., 1380.,\n",
       "        790., 1200.,  990.,  840.,  490., 1100., 1017., 1165., 1250.,\n",
       "        859.,  715.,  350.,  650.,  940., 1320.,  760.,  850.,  740.,\n",
       "       1016., 1204., 1260., 1306.,  700., 1080., 1213.,  690., 1166.,\n",
       "       1250., 1200.,  772., 1260., 1213., 1101.,  933.,  750.,  390.,\n",
       "        710., 1198., 1250., 1054., 1270.,  850., 1366., 1166., 1213.,\n",
       "        900.,  560.,  950.,  775.,  850.,  681., 1200.,  570., 1334.,\n",
       "       1180., 1360.,  940., 1020., 1213., 1306., 1306., 1080., 1180.,\n",
       "       1148.,  375., 1400.,  790., 1008.,  570., 1175.,  898., 1306.,\n",
       "       1350.,  679.,  290., 1040.,  950.,  850., 1381., 1250., 1000.,\n",
       "        800.,  900.,  790.,  550., 1060., 1040.,  800.,  859., 1170.,\n",
       "        625.,  390., 1040., 1260., 1373.,  840., 1370.,  350., 1290.,\n",
       "        560., 1040.,  750., 1381., 1269.,  940., 1306.,  994.,  580.,\n",
       "        800., 1306., 1060., 1260., 1400.,  650.,  933.,  450., 1306.,\n",
       "       1290., 1026.,  489., 1100., 1381., 1070.,  681.,  550.,  700.,\n",
       "       1260., 1381.,  500., 1300., 1330., 1040.,  850.,  848.,  190.,\n",
       "       1241., 1250., 1194., 1353., 1330., 1040.,  920.,  800., 1270.,\n",
       "       1250., 1200.,  868., 1140.,  850., 1220.,  990., 1200.,  760.,\n",
       "        990., 1100.,  790.,  850., 1080.,  750., 1150., 1076., 1220.,\n",
       "        890., 1360., 1054., 1090.,  945.,  390., 1110.,  775., 1288.,\n",
       "        800.,  653., 1306.,  940., 1300.,  588., 1072., 1300., 1288.,\n",
       "       1353., 1100.,  350.,  850., 1204., 1200.,  760.,  490.,  390.,\n",
       "       1381.,  308.,  750., 1130., 1320.,  655., 1320., 1000., 1306.,\n",
       "        784.,  900.,  933., 1010., 1130., 1240., 1381.,  380.,  500.,\n",
       "        650., 1320., 1388.,  467.,  850., 1220.,  600., 1250.,  480.,\n",
       "       1080., 1362.,  924., 1372.,  961.,  800.,  580., 1120., 1306.,\n",
       "       1026.,  635., 1320., 1050.,  320.,  467., 1269.,  747.,  625.,\n",
       "        790., 1166., 1166., 1180.,  340., 1240., 1236., 1050.,  924.,\n",
       "       1306., 1026., 1080.,  850.,  430., 1300.,  448.,  840.,  550.,\n",
       "        530.,  635.,  578., 1040., 1240., 1213., 1267.,  961., 1000.,\n",
       "       1159., 1200., 1220.,  990., 1180., 1040., 1381.,  924., 1090.,\n",
       "        490., 1350.,  220., 1130., 1040.,  920., 1334., 1100., 1090.,\n",
       "       1381.,  850., 1306., 1100., 1030., 1240.,  750.,  635., 1054.,\n",
       "        650., 1340.,  924.,  950.,  588., 1180., 1080.,  900., 1390.,\n",
       "       1054., 1175.,  790., 1120., 1280., 1260.,  900.,  450.,  550.,\n",
       "       1306., 1050.,  390., 1040., 1072.,  933., 1120., 1343.,  699.,\n",
       "        700., 1200.,  905., 1166., 1040.,  915.,  750.,  700., 1120.,\n",
       "        541.,  800., 1090.,  850., 1400.,  450., 1010.,  850.,  848.,\n",
       "       1148., 1250.,  728.,  400.,  831.,  990.,  790., 1101., 1381.,\n",
       "        442.,  980., 1040.,  800.,  728., 1310.,  380., 1211.,  390.,\n",
       "       1306.,  520., 1352., 1400.,  699., 1060.,  850., 1381., 1190.,\n",
       "       1320.,  868.,  700., 1030., 1080.,  840., 1041.,  990., 1270.,\n",
       "       1166.,  690.,  968.,  775., 1306.])"
      ]
     },
     "execution_count": 73,
     "metadata": {},
     "output_type": "execute_result"
    }
   ],
   "source": [
    "RSV5_pred"
   ]
  },
  {
   "cell_type": "code",
   "execution_count": 74,
   "id": "44c050ed",
   "metadata": {},
   "outputs": [],
   "source": [
    "score5 = RSV5.score(x_train,y_train)"
   ]
  },
  {
   "cell_type": "markdown",
   "id": "3144f1be",
   "metadata": {},
   "source": [
    "BaggingRegressor"
   ]
  },
  {
   "cell_type": "code",
   "execution_count": 75,
   "id": "a31f1cc0",
   "metadata": {},
   "outputs": [],
   "source": [
    "#creating  parameter list to pass in RandomizedSearchCV\n",
    "param6={'base_estimator':[None],'n_estimators':[0,2,5,10],\n",
    "      'bootstrap':[True,False],'oob_score':[True,False],'warm_start':[True,False],\n",
    "       'bootstrap_features':[True,False],'random_state':range(0,20)}"
   ]
  },
  {
   "cell_type": "code",
   "execution_count": 76,
   "id": "790a1d4a",
   "metadata": {},
   "outputs": [],
   "source": [
    "RSV6=RandomizedSearchCV(BaggingRegressor(),param6,cv=5)"
   ]
  },
  {
   "cell_type": "code",
   "execution_count": 77,
   "id": "9f017ae3",
   "metadata": {},
   "outputs": [
    {
     "data": {
      "text/plain": [
       "RandomizedSearchCV(cv=5, estimator=BaggingRegressor(),\n",
       "                   param_distributions={'base_estimator': [None],\n",
       "                                        'bootstrap': [True, False],\n",
       "                                        'bootstrap_features': [True, False],\n",
       "                                        'n_estimators': [0, 2, 5, 10],\n",
       "                                        'oob_score': [True, False],\n",
       "                                        'random_state': range(0, 20),\n",
       "                                        'warm_start': [True, False]})"
      ]
     },
     "execution_count": 77,
     "metadata": {},
     "output_type": "execute_result"
    }
   ],
   "source": [
    "RSV6.fit(x_train,y_train)"
   ]
  },
  {
   "cell_type": "code",
   "execution_count": 78,
   "id": "afe23b17",
   "metadata": {},
   "outputs": [
    {
     "data": {
      "text/plain": [
       "{'warm_start': False,\n",
       " 'random_state': 0,\n",
       " 'oob_score': False,\n",
       " 'n_estimators': 10,\n",
       " 'bootstrap_features': False,\n",
       " 'bootstrap': False,\n",
       " 'base_estimator': None}"
      ]
     },
     "execution_count": 78,
     "metadata": {},
     "output_type": "execute_result"
    }
   ],
   "source": [
    "RSV6.best_params_"
   ]
  },
  {
   "cell_type": "code",
   "execution_count": 79,
   "id": "150fef04",
   "metadata": {},
   "outputs": [],
   "source": [
    "RSV6_pred=RSV6.best_estimator_.predict(x_test) "
   ]
  },
  {
   "cell_type": "code",
   "execution_count": 80,
   "id": "ccf4bd8f",
   "metadata": {},
   "outputs": [
    {
     "data": {
      "text/plain": [
       "array([ 590. ,  497.5, 1381. ,  490. ,  900. ,  679.7,  800. ,  850. ,\n",
       "       1220. , 1370. ,  613.6, 1353. , 1120. , 1120. ,  630. , 1380. ,\n",
       "       1381. ,  290. ,  190. ,  340. ,  541. , 1250. ,  660. , 1190. ,\n",
       "        550. ,  850. ,  940. ,  850. ,  790. ,  910. , 1260. ,  860.6,\n",
       "       1110. ,  550. , 1110. , 1104. , 1362. ,  700. ,  500. , 1040. ,\n",
       "       1230. ,  390. ,  661.5, 1123. ,  775. , 1185. , 1040. ,  950. ,\n",
       "       1334. , 1120. , 1209. ,  820. ,  390. ,  620. , 1120. , 1255. ,\n",
       "        840. , 1260.6,  400.5,  570. ,  750. , 1350. , 1311.5, 1110. ,\n",
       "        587.6,  880. ,  600. ,  490. ,  500. ,  287.2,  900. ,  429.3,\n",
       "       1320. , 1261.4, 1026. ,  850. , 1306. , 1213. ,  840. ,  920. ,\n",
       "        790. ,  900. , 1320. , 1381. ,  350. , 1306. , 1120. ,  630. ,\n",
       "       1220. , 1380. ,  790. , 1200. ,  990. ,  840. ,  490. , 1100. ,\n",
       "       1017. , 1165. , 1250. ,  859. ,  719. ,  350. ,  650. ,  940. ,\n",
       "       1320. ,  760. ,  850. ,  740. , 1016. , 1204. , 1260. , 1306. ,\n",
       "        700. , 1080. ,  850. ,  690. , 1166. , 1250. , 1200. ,  772. ,\n",
       "       1260. , 1213. , 1101. ,  933. ,  750. ,  390. ,  707.9, 1198.6,\n",
       "       1250. , 1054. , 1270. ,  850. , 1366. , 1166. , 1213. ,  900. ,\n",
       "        560. ,  950. ,  775. ,  850. ,  681. , 1200. ,  570. , 1334. ,\n",
       "       1180. , 1360. ,  940. , 1020. , 1213. , 1306. , 1306. , 1080. ,\n",
       "       1180. , 1148. ,  370.3, 1213. ,  790. , 1008. ,  570. , 1170.5,\n",
       "        897. , 1306. , 1350. ,  679.3,  290. , 1040. ,  950. ,  850. ,\n",
       "       1381. , 1250. , 1000. ,  800. ,  900. ,  790. ,  550. , 1060. ,\n",
       "       1040. ,  800. ,  859. , 1170.5,  625. ,  390. , 1040. , 1260. ,\n",
       "       1370. ,  840. , 1370. ,  350. , 1290. ,  497.5, 1040. ,  750. ,\n",
       "       1381. , 1269. ,  940. , 1306. ,  994.4,  580. ,  800. , 1306. ,\n",
       "       1060. , 1260. , 1400. ,  580. ,  933. ,  450. , 1306. , 1290. ,\n",
       "       1026. ,  489. , 1100. , 1381. , 1070.2,  681. ,  550. ,  700. ,\n",
       "       1260. , 1381. ,  500. , 1300. , 1330. , 1040. ,  850. ,  848. ,\n",
       "        180. , 1241. , 1250. , 1194. , 1353. , 1330. , 1040. ,  920. ,\n",
       "        800. , 1270. , 1250. , 1200. ,  868. , 1140. ,  850. , 1220. ,\n",
       "        990.4, 1200. ,  760. ,  990. , 1100. ,  790. ,  850. , 1080. ,\n",
       "        750. , 1150. , 1077.6, 1220. ,  890. , 1360. , 1054. , 1090. ,\n",
       "        945. ,  390. , 1110. ,  775. , 1287.8,  800. ,  653. , 1306. ,\n",
       "        940. , 1300. ,  587.8, 1070.8, 1300. , 1288. , 1353. , 1100. ,\n",
       "        350. ,  850. , 1204. , 1200. ,  760. ,  490. ,  390. , 1381. ,\n",
       "        304. ,  750. , 1130. , 1320. ,  655. , 1320. , 1000. , 1306. ,\n",
       "        784. ,  900. ,  933. , 1010. , 1130. , 1240. , 1381. ,  380.5,\n",
       "        497.5,  650. , 1320. , 1387. ,  466.6,  850. , 1220. ,  600. ,\n",
       "       1250. ,  480. , 1080. , 1362. ,  924. , 1372. ,  961. ,  800. ,\n",
       "        580. , 1120. , 1306. , 1026. ,  635. , 1320. , 1050. ,  326. ,\n",
       "        467. , 1269. ,  747. ,  625. ,  790. , 1166. , 1166. , 1180. ,\n",
       "        338.8, 1240. , 1236. , 1050. ,  924. , 1306. , 1026.4, 1080. ,\n",
       "        850. ,  428.7, 1300. ,  448. ,  840. ,  550. ,  530. ,  635. ,\n",
       "        578.5, 1040. , 1240. , 1213. , 1267. ,  961. , 1000. , 1159.7,\n",
       "       1200. , 1220. ,  990. , 1180. , 1040. , 1381. ,  924. , 1090. ,\n",
       "        490. , 1350. ,  189. , 1130. , 1040. ,  920. , 1334. , 1100. ,\n",
       "       1090. , 1381. ,  850. , 1306. , 1100. , 1030. , 1240. ,  750. ,\n",
       "        635. , 1054. ,  650. , 1340. ,  924. ,  950. ,  587.6, 1180. ,\n",
       "       1080. ,  900. , 1390. , 1054. , 1170.5,  790. , 1120. , 1280. ,\n",
       "       1260. ,  900. ,  450. ,  550. , 1306. , 1050. ,  390. , 1040. ,\n",
       "       1070.8,  933. ,  933. , 1341.7,  699. ,  700. , 1200. ,  904.2,\n",
       "       1166. ,  740. ,  915. ,  750. ,  700. , 1120. ,  541. ,  800. ,\n",
       "       1090. ,  850. , 1400. ,  450. , 1010. ,  850. ,  848. , 1148. ,\n",
       "       1250. ,  728. ,  400.5,  831. ,  990. ,  790. , 1101. , 1381. ,\n",
       "        441.4,  980. , 1040. ,  801.2,  728. , 1311.5,  380. , 1211. ,\n",
       "        390. , 1306. ,  525. , 1352.5, 1400. ,  699. , 1060. ,  850. ,\n",
       "       1381. , 1190. , 1320. ,  868. ,  211. , 1030. , 1080. ,  840. ,\n",
       "       1040.3,  990. , 1270. , 1166. ,  690. ,  969.4,  775. , 1306. ])"
      ]
     },
     "execution_count": 80,
     "metadata": {},
     "output_type": "execute_result"
    }
   ],
   "source": [
    "RSV6_pred"
   ]
  },
  {
   "cell_type": "code",
   "execution_count": 81,
   "id": "6c12e8cb",
   "metadata": {},
   "outputs": [],
   "source": [
    "score6 = RSV6.score(x_train,y_train)"
   ]
  },
  {
   "cell_type": "markdown",
   "id": "645a11b9",
   "metadata": {},
   "source": [
    "After performing RandomizedSearchCV method accuracy:"
   ]
  },
  {
   "cell_type": "code",
   "execution_count": 85,
   "id": "5db72114",
   "metadata": {},
   "outputs": [
    {
     "name": "stdout",
     "output_type": "stream",
     "text": [
      "Accuracy for LinearRegression is  97.2958123857843 %\n",
      "\n",
      "Accuracy for AdaBoostRegressor is  99.59627798743968 %\n",
      "\n",
      "Accuracy for ElasticNet(alpha=0.0001) is  97.23175254206062 %\n",
      "\n",
      "Accuracy for KNeighborsRegressor is  100.0 %\n",
      "\n",
      "Accuracy for DecisionTreeRegressor is  100.0 %\n",
      "\n",
      "Accuracy for BaggingRegressor is  100.0 %\n"
     ]
    }
   ],
   "source": [
    "print(\"Accuracy for LinearRegression is \",score1*100,\"%\\n\")\n",
    "print(\"Accuracy for AdaBoostRegressor is \",score2*100,\"%\\n\")\n",
    "print(\"Accuracy for ElasticNet(alpha=0.0001) is \",score3*100,\"%\\n\")\n",
    "print(\"Accuracy for KNeighborsRegressor is \",score4*100,\"%\\n\")\n",
    "print(\"Accuracy for DecisionTreeRegressor is \",score5*100,\"%\\n\")\n",
    "print(\"Accuracy for BaggingRegressor is \",score6*100,\"%\")"
   ]
  },
  {
   "cell_type": "markdown",
   "id": "dbac33af",
   "metadata": {},
   "source": [
    "Selecting KNeighborsRegressor as final model for saving, as it was having good accuracy ."
   ]
  },
  {
   "cell_type": "code",
   "execution_count": null,
   "id": "a3da6d93",
   "metadata": {},
   "outputs": [],
   "source": []
  }
 ],
 "metadata": {
  "kernelspec": {
   "display_name": "Python 3 (ipykernel)",
   "language": "python",
   "name": "python3"
  },
  "language_info": {
   "codemirror_mode": {
    "name": "ipython",
    "version": 3
   },
   "file_extension": ".py",
   "mimetype": "text/x-python",
   "name": "python",
   "nbconvert_exporter": "python",
   "pygments_lexer": "ipython3",
   "version": "3.9.12"
  }
 },
 "nbformat": 4,
 "nbformat_minor": 5
}
