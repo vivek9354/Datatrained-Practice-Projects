{
 "cells": [
  {
   "cell_type": "markdown",
   "id": "d905c25a",
   "metadata": {},
   "source": [
    "## Program for medical cost Insurance"
   ]
  },
  {
   "cell_type": "code",
   "execution_count": null,
   "id": "1d1dc004",
   "metadata": {},
   "outputs": [],
   "source": [
    "#Importing libraries\n",
    "import pandas as pd\n",
    "import pandas as pd\n",
    "import numpy as np\n",
    "import seaborn as sns\n",
    "import matplotlib.pyplot as plt\n",
    "from matplotlib  import * \n",
    "from scipy import stats\n",
    "import plotly.express as px\n",
    "\n",
    "import warnings\n",
    "warnings.filterwarnings('ignore')"
   ]
  },
  {
   "cell_type": "code",
   "execution_count": null,
   "id": "a1747648",
   "metadata": {},
   "outputs": [],
   "source": [
    "df = pd.read_csv(\"https://raw.githubusercontent.com/dsrscientist/dataset4/main/medical_cost_insurance.csv\")\n",
    "df.head(10)"
   ]
  },
  {
   "cell_type": "code",
   "execution_count": null,
   "id": "b22a4ff9",
   "metadata": {},
   "outputs": [],
   "source": [
    "#find the shape\n",
    "df.shape\n"
   ]
  },
  {
   "cell_type": "markdown",
   "id": "6da9290e",
   "metadata": {},
   "source": [
    "### checking for duplicates"
   ]
  },
  {
   "cell_type": "code",
   "execution_count": null,
   "id": "327ef029",
   "metadata": {},
   "outputs": [],
   "source": [
    "\n",
    "df.duplicated().any()\n"
   ]
  },
  {
   "cell_type": "code",
   "execution_count": null,
   "id": "cf0ebc5e",
   "metadata": {},
   "outputs": [],
   "source": [
    "def dup_rows_index(df):\n",
    "  dup = df[df.duplicated()]\n",
    "  print('Duplicated index loc:',dup[dup == True ].index.tolist())\n",
    "  return dup"
   ]
  },
  {
   "cell_type": "code",
   "execution_count": null,
   "id": "435c3bb7",
   "metadata": {},
   "outputs": [],
   "source": [
    "dup_rows_index(df)\n"
   ]
  },
  {
   "cell_type": "markdown",
   "id": "0bce81f3",
   "metadata": {},
   "source": [
    "### Deleting of duplicates"
   ]
  },
  {
   "cell_type": "code",
   "execution_count": null,
   "id": "5d1b707b",
   "metadata": {},
   "outputs": [],
   "source": [
    "df = df.drop_duplicates()\n"
   ]
  },
  {
   "cell_type": "code",
   "execution_count": null,
   "id": "94bbbe27",
   "metadata": {},
   "outputs": [],
   "source": [
    "df.duplicated().any()\n"
   ]
  },
  {
   "cell_type": "code",
   "execution_count": null,
   "id": "4190d053",
   "metadata": {},
   "outputs": [],
   "source": [
    "df.shape\n"
   ]
  },
  {
   "cell_type": "code",
   "execution_count": null,
   "id": "6835f6db",
   "metadata": {},
   "outputs": [],
   "source": [
    "#Checking for nulls\n",
    "df.isna().sum()\n"
   ]
  },
  {
   "cell_type": "code",
   "execution_count": null,
   "id": "c04e1b40",
   "metadata": {},
   "outputs": [],
   "source": [
    "plt.figure(figsize=(15,16))\n",
    "\n",
    "plt.subplot(4, 3, 1)\n",
    "sns.distplot(df['age'])\n",
    "\n",
    "plt.subplot(4, 3, 2)\n",
    "sns.distplot(df['bmi'])\n",
    "\n",
    "plt.subplot(4, 3, 3)\n",
    "sns.distplot(df['children'])\n",
    "\n",
    "plt.subplot(4, 3, 4)\n",
    "sns.distplot(df['charges'])"
   ]
  },
  {
   "cell_type": "code",
   "execution_count": null,
   "id": "33e6f19f",
   "metadata": {},
   "outputs": [],
   "source": [
    "df['region'].unique()\n"
   ]
  },
  {
   "cell_type": "code",
   "execution_count": null,
   "id": "30f322d9",
   "metadata": {},
   "outputs": [],
   "source": [
    "plt.figure(figsize=(15,10))\n",
    "\n",
    "plt.subplot(2, 2, 1)\n",
    "sns.countplot(data = df, x = 'sex', palette='Set2' )\n",
    "\n",
    "plt.subplot(2,2,2)\n",
    "sns.countplot( data = df, x = 'children', palette='Set2')\n",
    "\n",
    "plt.subplot(2,2,3)\n",
    "sns.countplot(data = df, x = 'smoker', palette='Set2')\n",
    "\n",
    "plt.subplot(2,2,4)\n",
    "sns.countplot(data = df, x = 'region', palette='Set2')"
   ]
  },
  {
   "cell_type": "markdown",
   "id": "27ce16a8",
   "metadata": {},
   "source": [
    "Observing the above graphs we can see that we have practically the same number between men and women\n",
    "\n",
    "The more the number of children, the less values we have, with the highest value people who do not have any children\n",
    "\n",
    "when we look at the smoker variable we can see that most of our base is non-smokers\n",
    "\n",
    "we can see that regions are equally distributed."
   ]
  },
  {
   "cell_type": "code",
   "execution_count": null,
   "id": "1949339c",
   "metadata": {},
   "outputs": [],
   "source": [
    "print(df['sex'].value_counts())\n",
    "\n",
    "print('\\n',df['children'].value_counts())\n",
    "\n",
    "print('\\n',df['smoker'].value_counts())\n",
    "\n",
    "print('\\n',df['region'].value_counts())"
   ]
  },
  {
   "cell_type": "code",
   "execution_count": null,
   "id": "1acc30d9",
   "metadata": {},
   "outputs": [],
   "source": [
    "plt.figure(figsize= (12,10))\n",
    "\n",
    "plt.subplot(2,2,1)\n",
    "sns.boxplot(x='sex', y='charges', data= df)\n",
    "\n",
    "\n",
    "sns.catplot(data = df, x = 'sex', y = 'charges', palette = 'Set2')\n"
   ]
  },
  {
   "cell_type": "markdown",
   "id": "11ff9c8b",
   "metadata": {},
   "source": [
    "**We can see from above plot that for both male and female charges for health insurance are almost similar.**\n"
   ]
  },
  {
   "cell_type": "code",
   "execution_count": null,
   "id": "63720ec0",
   "metadata": {},
   "outputs": [],
   "source": [
    "plt.figure(figsize= (12,10))\n",
    "\n",
    "plt.subplot(2,2,1)\n",
    "sns.boxplot(x='children', y='charges', data= df)\n",
    "\n",
    "\n",
    "sns.catplot(data = df, x = 'children', y = 'charges', palette = 'Set2')"
   ]
  },
  {
   "cell_type": "markdown",
   "id": "0c104a63",
   "metadata": {},
   "source": [
    "**From the above plot we can see that people who have 5 children pay less charges than others and the people with 0 children pay high charges for health insurance.**\n"
   ]
  },
  {
   "cell_type": "code",
   "execution_count": null,
   "id": "b02b1dc0",
   "metadata": {},
   "outputs": [],
   "source": [
    "plt.figure(figsize= (12,10))\n",
    "\n",
    "plt.subplot(2,2,1)\n",
    "sns.boxplot(x='smoker', y='charges', data= df)\n",
    "\n",
    "sns.catplot(data = df, x = 'smoker', y = 'charges', palette = 'Set2')"
   ]
  },
  {
   "cell_type": "code",
   "execution_count": null,
   "id": "6160e5e5",
   "metadata": {},
   "outputs": [],
   "source": [
    "plt.figure(figsize=(10,8))\n",
    "plt.title(\"Relation between Sex and Smoker\")\n",
    "sns.countplot(data=df, x='sex', hue='smoker')\n",
    "plt.show()"
   ]
  },
  {
   "cell_type": "markdown",
   "id": "5bc89a8d",
   "metadata": {},
   "source": [
    "Males tend to smoke more as compared to females.\n"
   ]
  },
  {
   "cell_type": "code",
   "execution_count": null,
   "id": "d410fe0e",
   "metadata": {},
   "outputs": [],
   "source": [
    "plt.figure(figsize= (12,10))\n",
    "\n",
    "plt.subplot(2,2,1)\n",
    "sns.boxplot(x='region', y='charges', data= df)\n",
    "\n",
    "sns.catplot(data = df, x = \"region\", y = \"charges\", palette = \"Set2\")"
   ]
  },
  {
   "cell_type": "markdown",
   "id": "42ea9127",
   "metadata": {},
   "source": [
    "There is no significant impact of region on charges attribute, it is evenly distributed.\n",
    "\n"
   ]
  },
  {
   "cell_type": "markdown",
   "id": "5626ab34",
   "metadata": {},
   "source": [
    "### Null Hypothesis : Does bmi of males differ significantly from that of females\n"
   ]
  },
  {
   "cell_type": "markdown",
   "id": "dfa38d3c",
   "metadata": {},
   "source": [
    "#### Understanding difference between bmi of male vs female with respect to their age.\n"
   ]
  },
  {
   "cell_type": "code",
   "execution_count": null,
   "id": "22834d47",
   "metadata": {},
   "outputs": [],
   "source": [
    "plt.figure(figsize=(20,5))\n",
    "sns.scatterplot(x='age',y='bmi',hue='sex',data=df)\n",
    "plt.show()"
   ]
  },
  {
   "cell_type": "markdown",
   "id": "b5318608",
   "metadata": {},
   "source": [
    "### T-test to analyse the effect of male and female on the bmi\n"
   ]
  },
  {
   "cell_type": "code",
   "execution_count": null,
   "id": "3f3d4885",
   "metadata": {},
   "outputs": [],
   "source": [
    "x = np.array(df[df.sex == 'male'].bmi) \n",
    "y = np.array(df[df.sex == 'female'].bmi)\n",
    "\n",
    "# Independent t-test\n",
    "t, p_value  = stats.ttest_ind(x,y, axis = 0)"
   ]
  },
  {
   "cell_type": "markdown",
   "id": "46f42386",
   "metadata": {},
   "source": [
    "### if p value is less than 0.05 we reject null hypothesis.\n"
   ]
  },
  {
   "cell_type": "code",
   "execution_count": null,
   "id": "2c5c79f3",
   "metadata": {},
   "outputs": [],
   "source": [
    "if p_value>0.05:\n",
    "  print(\"p value is\",p_value,\",hence we accept null hypothesis so the bmi of males not differ significantly from that of females\"  )\n",
    "else:\n",
    "  print(\"p value is\",p_value,\",hence we reject null hypothesis so the bmi of males differ significantly from that of females\")\n"
   ]
  },
  {
   "cell_type": "markdown",
   "id": "bc466918",
   "metadata": {},
   "source": [
    "## Null Hypothesis : Do charges of people who smoke differ significantly from the people who don't?\n"
   ]
  },
  {
   "cell_type": "markdown",
   "id": "308c0e76",
   "metadata": {},
   "source": [
    "**understanding difference between charges paid by customers who smoke vs non smoker with respect to their age.**\n"
   ]
  },
  {
   "cell_type": "code",
   "execution_count": null,
   "id": "555b4ced",
   "metadata": {},
   "outputs": [],
   "source": [
    "plt.figure(figsize=(20,5))\n",
    "sns.scatterplot(x='age',y='charges',hue='smoker',data=df)\n",
    "plt.show()"
   ]
  },
  {
   "cell_type": "markdown",
   "id": "87f4ff7e",
   "metadata": {},
   "source": [
    "### T-test to analyse the effect of smoking on the charges\n"
   ]
  },
  {
   "cell_type": "code",
   "execution_count": null,
   "id": "307b1f83",
   "metadata": {},
   "outputs": [],
   "source": [
    "x = np.array(df[df.smoker == 'yes'].charges) \n",
    "y = np.array(df[df.smoker == 'no'].charges)\n",
    "\n",
    "# Independent t-test\n",
    "t, p_value  = stats.ttest_ind(x,y, axis = 0)"
   ]
  },
  {
   "cell_type": "markdown",
   "id": "5066f2ef",
   "metadata": {},
   "source": [
    "### if p value is less than 0.05 we reject null hypothesis.\n"
   ]
  },
  {
   "cell_type": "code",
   "execution_count": null,
   "id": "f44bdef5",
   "metadata": {},
   "outputs": [],
   "source": [
    "if p_value>0.05:\n",
    "  print(\"p value is\",p_value,\",hence we accept null hypothesis so the charges paid by smoker and non-smoker are same\"  )\n",
    "else:\n",
    "  print(\"p value is\",p_value,\",hence we reject null hypothesis so the charges paid by smoker and non-smoker are different\")"
   ]
  },
  {
   "cell_type": "code",
   "execution_count": null,
   "id": "54c64ba3",
   "metadata": {},
   "outputs": [],
   "source": [
    "plt.figure(figsize=(12,8))\n",
    "sns.boxplot(data=df, x='smoker', y='charges', hue= 'region')\n",
    "plt.title('Smoker charges')\n",
    "plt.show()"
   ]
  },
  {
   "cell_type": "code",
   "execution_count": null,
   "id": "f3113abf",
   "metadata": {},
   "outputs": [],
   "source": [
    "plt.figure(figsize=(12,8))\n",
    "sns.scatterplot(data=df, x='age', y='charges', hue='smoker')\n",
    "plt.title('Age vs Charges (smoker yes/no)')\n",
    "plt.plot()"
   ]
  },
  {
   "cell_type": "markdown",
   "id": "62011a18",
   "metadata": {},
   "source": [
    "**We can clearly see a distintion of charges vs age, for someone that doesn't smoke and someone who smokes**\n",
    "\n"
   ]
  },
  {
   "cell_type": "code",
   "execution_count": null,
   "id": "50ef41f3",
   "metadata": {},
   "outputs": [],
   "source": [
    "plt.figure(figsize=(12,8))\n",
    "sns.scatterplot(data=df, x='bmi', y='charges', hue='smoker')\n",
    "plt.title('BMI vs Charges (smoker yes/no)')\n",
    "plt.plot()"
   ]
  },
  {
   "cell_type": "markdown",
   "id": "10ec818f",
   "metadata": {},
   "source": [
    "**From the above plot we can conclude that a higher bmi doesn't mean a higher charges.Although again if a person smokes, there is a clear distinction.**\n",
    "\n"
   ]
  },
  {
   "cell_type": "code",
   "execution_count": null,
   "id": "c9502407",
   "metadata": {},
   "outputs": [],
   "source": [
    "plt.figure(figsize=(12,8))\n",
    "plt.title(\"Relation between Sex and BMI\")\n",
    "sns.violinplot(data=df, x='sex', y='bmi')\n",
    "plt.show()"
   ]
  },
  {
   "cell_type": "markdown",
   "id": "356d5da2",
   "metadata": {},
   "source": [
    "**The BMI tends to be lower for females as compared to males.**"
   ]
  },
  {
   "cell_type": "markdown",
   "id": "3abc6059",
   "metadata": {},
   "source": [
    "### Encoding the categorical variables\n"
   ]
  },
  {
   "cell_type": "code",
   "execution_count": null,
   "id": "f7f34ff7",
   "metadata": {},
   "outputs": [],
   "source": [
    "from sklearn.preprocessing import LabelEncoder\n",
    "\n",
    "\n",
    "le = LabelEncoder()\n",
    "df['smoker'] = le.fit_transform(df['smoker'])"
   ]
  },
  {
   "cell_type": "code",
   "execution_count": null,
   "id": "1226c2c0",
   "metadata": {},
   "outputs": [],
   "source": [
    "df['sex'] = le.fit_transform(df['sex'])\n"
   ]
  },
  {
   "cell_type": "code",
   "execution_count": null,
   "id": "bcc6766c",
   "metadata": {},
   "outputs": [],
   "source": [
    "df['region'] = le.fit_transform(df['region'])\n"
   ]
  },
  {
   "cell_type": "code",
   "execution_count": null,
   "id": "12d723e8",
   "metadata": {},
   "outputs": [],
   "source": [
    "df.corr()['charges'].sort_values()\n"
   ]
  },
  {
   "cell_type": "markdown",
   "id": "44ef6990",
   "metadata": {},
   "source": [
    "We can observe that almost all the features are lightly correlated with target variable except smoker.\n",
    "\n"
   ]
  },
  {
   "cell_type": "markdown",
   "id": "34e07db1",
   "metadata": {},
   "source": [
    "### correlation between different features\n"
   ]
  },
  {
   "cell_type": "code",
   "execution_count": null,
   "id": "54832126",
   "metadata": {},
   "outputs": [],
   "source": [
    "correlation = df.corr()\n",
    "plt.figure(figsize=(8,8))\n",
    "sns.heatmap(correlation, cbar=True, square=True, fmt='.2f', annot=True, annot_kws={'size':8}, cmap='Blues')\n",
    "plt.show()"
   ]
  },
  {
   "cell_type": "markdown",
   "id": "162b3c69",
   "metadata": {},
   "source": [
    "**From the heatmap we can say that if the person smokes or not will affect the cost of insurance.**\n",
    "\n"
   ]
  },
  {
   "cell_type": "markdown",
   "id": "864b40b1",
   "metadata": {},
   "source": [
    "### Removing target feature\n"
   ]
  },
  {
   "cell_type": "code",
   "execution_count": null,
   "id": "0843bd89",
   "metadata": {},
   "outputs": [],
   "source": [
    "target = df['charges']\n"
   ]
  },
  {
   "cell_type": "code",
   "execution_count": null,
   "id": "a2032c32",
   "metadata": {},
   "outputs": [],
   "source": [
    "df=df.drop('charges', axis=1)\n"
   ]
  },
  {
   "cell_type": "markdown",
   "id": "422c9c07",
   "metadata": {},
   "source": [
    "### Train and Spliting the data\n"
   ]
  },
  {
   "cell_type": "code",
   "execution_count": null,
   "id": "b4e9464c",
   "metadata": {},
   "outputs": [],
   "source": [
    "X = df\n",
    "y = target "
   ]
  },
  {
   "cell_type": "code",
   "execution_count": null,
   "id": "3a9ad107",
   "metadata": {},
   "outputs": [],
   "source": [
    "from sklearn.model_selection import train_test_split\n",
    "x_train, x_pred, y_train, y_pred = train_test_split(X,y, test_size=0.2)"
   ]
  },
  {
   "cell_type": "code",
   "execution_count": null,
   "id": "07aaf370",
   "metadata": {},
   "outputs": [],
   "source": [
    "print('X_train shape', x_train.shape)\n",
    "print('y_train shape', y_train.shape)\n",
    "print('X_pred shape', x_pred.shape)\n",
    "print('y_pred shape', y_pred.shape)"
   ]
  },
  {
   "cell_type": "markdown",
   "id": "b0ce1e0a",
   "metadata": {},
   "source": [
    "### Applying models\n"
   ]
  },
  {
   "cell_type": "code",
   "execution_count": null,
   "id": "c5b4e991",
   "metadata": {},
   "outputs": [],
   "source": [
    "from sklearn.svm import SVC, LinearSVC\n",
    "from sklearn.ensemble import RandomForestClassifier\n",
    "from sklearn.linear_model import LinearRegression\n",
    "from sklearn.neighbors import KNeighborsClassifier\n",
    "from sklearn.naive_bayes import GaussianNB\n",
    "from sklearn.linear_model import Perceptron\n",
    "from sklearn.linear_model import SGDClassifier\n",
    "from sklearn.ensemble import RandomForestRegressor,VotingRegressor\n",
    "from sklearn.tree import DecisionTreeRegressor\n",
    "from sklearn.metrics import classification_report,confusion_matrix\n",
    "from sklearn.ensemble import AdaBoostRegressor\n",
    "from sklearn.ensemble import GradientBoostingRegressor\n",
    "from sklearn.linear_model import LogisticRegression\n",
    "from sklearn.metrics import r2_score\n",
    "from sklearn.metrics import  mean_squared_error, mean_absolute_error\n",
    "from sklearn.metrics import accuracy_score"
   ]
  },
  {
   "cell_type": "markdown",
   "id": "be05bfef",
   "metadata": {},
   "source": [
    "### LinearRegression\n"
   ]
  },
  {
   "cell_type": "code",
   "execution_count": null,
   "id": "4f0e407b",
   "metadata": {},
   "outputs": [],
   "source": [
    "lr = LinearRegression()     \n",
    "lr.fit(x_train,y_train)\n",
    "lr_pred = lr.predict(x_pred)"
   ]
  },
  {
   "cell_type": "code",
   "execution_count": null,
   "id": "c60e7abc",
   "metadata": {},
   "outputs": [],
   "source": [
    "print(f\"R2 Score: {round(r2_score(y_pred, lr_pred), 2)}\")\n",
    "print(f\"MSE     : {round(mean_squared_error(y_pred, lr_pred), 2)}\")\n",
    "print(f\"MAE     : {round(mean_absolute_error(y_pred, lr_pred), 2)}\")"
   ]
  },
  {
   "cell_type": "code",
   "execution_count": null,
   "id": "0ec1ca05",
   "metadata": {},
   "outputs": [],
   "source": [
    "# visualizing the true values and prediction values\n",
    "plt.figure(figsize=(8,8))\n",
    "sns.scatterplot(x = y_pred, y = lr_pred)\n",
    "plt.title(\"Actual vs Predicted values Test Data\")\n",
    "plt.xlabel(\"Actual Values\")\n",
    "plt.ylabel(\"Predicted Values\")\n",
    "plt.show()"
   ]
  },
  {
   "cell_type": "markdown",
   "id": "4737e3ec",
   "metadata": {},
   "source": [
    "### DecisionTreeRegressor\n"
   ]
  },
  {
   "cell_type": "code",
   "execution_count": null,
   "id": "6d6898da",
   "metadata": {},
   "outputs": [],
   "source": [
    "dt = DecisionTreeRegressor()\n",
    "dt.fit(x_train,y_train)\n",
    "dt_pred = dt.predict(x_pred)"
   ]
  },
  {
   "cell_type": "code",
   "execution_count": null,
   "id": "35603d87",
   "metadata": {},
   "outputs": [],
   "source": [
    "print(f\"R2 Score: {round(r2_score(y_pred, dt_pred), 2)}\")\n",
    "print(f\"MSE     : {round(mean_squared_error(y_pred, dt_pred), 2)}\")\n",
    "print(f\"MAE     : {round(mean_absolute_error(y_pred, dt_pred), 2)}\")"
   ]
  },
  {
   "cell_type": "code",
   "execution_count": null,
   "id": "6f26db51",
   "metadata": {},
   "outputs": [],
   "source": [
    "plt.figure(figsize=(8,8))\n",
    "sns.scatterplot(x = y_pred, y = dt_pred)\n",
    "plt.title(\"Actual vs Predicted values Test Data\")\n",
    "plt.xlabel(\"Actual Values\")\n",
    "plt.ylabel(\"Predicted Values\")\n",
    "plt.show()\n"
   ]
  },
  {
   "cell_type": "markdown",
   "id": "0588e7e5",
   "metadata": {},
   "source": [
    "### XGBRegressor\n"
   ]
  },
  {
   "cell_type": "code",
   "execution_count": null,
   "id": "062be9e0",
   "metadata": {},
   "outputs": [],
   "source": [
    "from xgboost import XGBRegressor\n",
    "\n",
    "xgb =  XGBRegressor()\n",
    "xgb.fit(x_train,y_train)\n",
    "xgb_pred = xgb.predict(x_pred)"
   ]
  },
  {
   "cell_type": "code",
   "execution_count": null,
   "id": "5a5003a2",
   "metadata": {},
   "outputs": [],
   "source": [
    "print(f\"R2 Score: {round(r2_score(y_pred, xgb_pred), 2)}\")\n",
    "print(f\"MSE     : {round(mean_squared_error(y_pred, xgb_pred), 2)}\")\n",
    "print(f\"MAE     : {round(mean_absolute_error(y_pred, xgb_pred), 2)}\")"
   ]
  },
  {
   "cell_type": "code",
   "execution_count": null,
   "id": "238fc4ca",
   "metadata": {},
   "outputs": [],
   "source": [
    "plt.figure(figsize=(8,8))\n",
    "sns.scatterplot(x = y_pred, y = xgb_pred)\n",
    "plt.title(\"Actual vs Predicted values Test Data\")\n",
    "plt.xlabel(\"Actual Values\")\n",
    "plt.ylabel(\"Predicted Values\")\n",
    "plt.show()"
   ]
  },
  {
   "cell_type": "markdown",
   "id": "3e78ac9c",
   "metadata": {},
   "source": [
    "### RandomForestRegressor\n"
   ]
  },
  {
   "cell_type": "code",
   "execution_count": null,
   "id": "8086bbd5",
   "metadata": {},
   "outputs": [],
   "source": [
    "rf = RandomForestRegressor()\n",
    "rf.fit(x_train,y_train)\n",
    "rf_pred = rf.predict(x_pred)"
   ]
  },
  {
   "cell_type": "code",
   "execution_count": null,
   "id": "6054a22e",
   "metadata": {},
   "outputs": [],
   "source": [
    "print(f\"R2 Score: {round(r2_score(y_pred, rf_pred), 2)}\")\n",
    "print(f\"MSE     : {round(mean_squared_error(y_pred, rf_pred), 2)}\")\n",
    "print(f\"MAE     : {round(mean_absolute_error(y_pred, rf_pred), 2)}\")\n"
   ]
  },
  {
   "cell_type": "code",
   "execution_count": null,
   "id": "cb4d2dab",
   "metadata": {},
   "outputs": [],
   "source": [
    "plt.figure(figsize=(8,8))\n",
    "sns.scatterplot(x = y_pred, y = rf_pred)\n",
    "plt.title(\"Actual vs Predicted values Test Data\")\n",
    "plt.xlabel(\"Actual Values\")\n",
    "plt.ylabel(\"Predicted Values\")\n",
    "plt.show()"
   ]
  },
  {
   "cell_type": "code",
   "execution_count": null,
   "id": "296b51bc",
   "metadata": {},
   "outputs": [],
   "source": [
    "# import module\n",
    "from tabulate import tabulate\n",
    " \n",
    "# assign data\n",
    "mydata =[ [\"LinearRegression\",r2_score(y_pred, lr_pred),mean_absolute_error(y_pred, lr_pred)],\n",
    "    [\"DecisionTreeRegression\",r2_score(y_pred, dt_pred),mean_absolute_error(y_pred, dt_pred)],\n",
    "    [\"XGBRegressor\", r2_score(y_pred, xgb_pred),mean_absolute_error(y_pred, xgb_pred)],\n",
    "    [\"RandomForestRegressor\",r2_score(y_pred, rf_pred),mean_absolute_error(y_pred, rf_pred)]\n",
    "        ]\n",
    "\n",
    " \n",
    "# create header\n",
    "head = [\"Model\", \"r2_score\",\"mean_squared_error\",\"mean_absolute_error\"]\n",
    " \n",
    "# display table\n",
    "print(tabulate(mydata, headers=head, tablefmt=\"grid\"))\n",
    "table = pd.DataFrame(mydata)"
   ]
  },
  {
   "cell_type": "markdown",
   "id": "a027ade9",
   "metadata": {},
   "source": [
    "### k fold cross_validation\n"
   ]
  },
  {
   "cell_type": "code",
   "execution_count": null,
   "id": "79f6854c",
   "metadata": {},
   "outputs": [],
   "source": [
    "from sklearn.model_selection import cross_val_score\n"
   ]
  },
  {
   "cell_type": "code",
   "execution_count": null,
   "id": "18b27826",
   "metadata": {},
   "outputs": [],
   "source": [
    "scores_lr = cross_val_score(lr, x_train,y_train, cv=10,scoring = 'r2')\n",
    "scores_dt = cross_val_score(dt, x_train,y_train, cv=10,scoring = 'r2')\n",
    "scores_xgb = cross_val_score(xgb, x_train,y_train, cv=10,scoring = 'r2')\n",
    "scores_rf = cross_val_score(rf, x_train,y_train, cv=10,scoring = 'r2')"
   ]
  },
  {
   "cell_type": "code",
   "execution_count": null,
   "id": "77b16c1e",
   "metadata": {},
   "outputs": [],
   "source": [
    "print(\"LinearRegression       CV    : \" , scores_lr.mean())\n",
    "print(\"DecisionTreeRegression CV    : \" , scores_dt.mean())\n",
    "print(\"XGBRegressor           CV    : \" , scores_xgb.mean())\n",
    "print(\"RandomForestRegressor  CV    : \" , scores_rf.mean())"
   ]
  },
  {
   "cell_type": "code",
   "execution_count": null,
   "id": "4a6d2ada",
   "metadata": {},
   "outputs": [],
   "source": [
    "# import module\n",
    "from tabulate import tabulate\n",
    " \n",
    "# assign data\n",
    "mydata_1 =[ [\"LinearRegression\",r2_score(y_pred, lr_pred),scores_lr.mean()],\n",
    "    [\"DecisionTreeRegression\",r2_score(y_pred, dt_pred),scores_dt.mean()],\n",
    "    [\"XGBRegressor\", r2_score(y_pred, xgb_pred),scores_xgb.mean()],\n",
    "    [\"RandomForestRegressor\",r2_score(y_pred, rf_pred),scores_rf.mean()]\n",
    "        ]\n",
    "\n",
    " \n",
    "# create header\n",
    "head = [\"Model\", \"r2_score\",\"r2_score_cv\"]\n",
    " \n",
    "# display table\n",
    "print(tabulate(mydata_1, headers=head, tablefmt=\"grid\"))\n",
    "table = pd.DataFrame(mydata_1)"
   ]
  },
  {
   "cell_type": "code",
   "execution_count": null,
   "id": "ae9382c4",
   "metadata": {},
   "outputs": [],
   "source": [
    "plt.rcParams[\"figure.figsize\"] = (15,5)\n",
    "plt.plot(table[0],table[1], label = \"r2_score\")\n",
    "plt.plot(table[0],table[2], label = \"r2_score_cv\")\n",
    "plt.xlabel('x - axis')\n",
    "plt.ylabel('y - axis')\n",
    "plt.title('r2_score VS r2_score_cv')\n",
    "plt.legend()\n",
    "plt.show()"
   ]
  },
  {
   "cell_type": "markdown",
   "id": "ba475f25",
   "metadata": {},
   "source": [
    "## finding the best hyperparameter using GRID Search CV For RandomForestRegressor\n"
   ]
  },
  {
   "cell_type": "code",
   "execution_count": null,
   "id": "d7a1b01f",
   "metadata": {},
   "outputs": [],
   "source": [
    "from sklearn.model_selection import RandomizedSearchCV, GridSearchCV\n",
    "rf_clf = RandomForestRegressor()"
   ]
  },
  {
   "cell_type": "code",
   "execution_count": null,
   "id": "f9bc5b1c",
   "metadata": {},
   "outputs": [],
   "source": [
    "para_rf = {'criterion':['squared_error', 'absolute_error', 'poisson'],'max_depth':np.arange(1, 50),\n",
    "           'min_samples_leaf':[1,2,4,5,10,20,30,40],\n",
    "           'max_features': ['sqrt', 'log2'],'ccp_alpha': [0.1, .01, .001]}\n",
    "grid_rf = GridSearchCV(rf_clf, param_grid=para_rf, cv=5)"
   ]
  },
  {
   "cell_type": "code",
   "execution_count": null,
   "id": "d5e66d05",
   "metadata": {},
   "outputs": [],
   "source": [
    "grid_rf.fit(x_train, y_train)\n",
    " \n",
    "print(\"parameters for RandomForest:\", grid_rf.best_params_)"
   ]
  },
  {
   "cell_type": "code",
   "execution_count": null,
   "id": "ee625699",
   "metadata": {},
   "outputs": [],
   "source": [
    "rf_1 = RandomForestRegressor(criterion= 'absolute_error', max_depth= 9, min_samples_leaf=1, ccp_alpha= 0.1, max_features ='log2')\n"
   ]
  },
  {
   "cell_type": "code",
   "execution_count": null,
   "id": "e62e4893",
   "metadata": {},
   "outputs": [],
   "source": [
    "rf_1.fit(x_train, y_train)\n",
    "pred_clf = rf_1.predict(x_pred)"
   ]
  },
  {
   "cell_type": "code",
   "execution_count": null,
   "id": "1b8d6237",
   "metadata": {},
   "outputs": [],
   "source": [
    "print(f\"R2 Score: {round(r2_score(y_pred, pred_clf),2 )}\")\n",
    "print(f\"MSE     : {round(mean_squared_error(y_pred, pred_clf),2 )}\")\n",
    "print(f\"MAE     : {round(mean_absolute_error(y_pred, pred_clf),2 )}\")"
   ]
  },
  {
   "cell_type": "code",
   "execution_count": null,
   "id": "d8896d92",
   "metadata": {},
   "outputs": [],
   "source": [
    "print(f\"RandomForestRegressor            : {round(r2_score(y_pred, rf_pred), 2)}\")\n",
    "print(f\"RandomForestRegressor_CV         : {round(scores_rf.mean(), 2)}\")\n",
    "print(f\"RandomForestRegressor_Tuning     : {round(r2_score(y_pred, pred_clf), 2)}\")"
   ]
  },
  {
   "cell_type": "code",
   "execution_count": null,
   "id": "966259f8",
   "metadata": {},
   "outputs": [],
   "source": []
  },
  {
   "cell_type": "code",
   "execution_count": null,
   "id": "a2fbb9ea",
   "metadata": {},
   "outputs": [],
   "source": []
  },
  {
   "cell_type": "code",
   "execution_count": null,
   "id": "bc82fdf7",
   "metadata": {},
   "outputs": [],
   "source": []
  },
  {
   "cell_type": "code",
   "execution_count": null,
   "id": "e5d1f4a9",
   "metadata": {},
   "outputs": [],
   "source": []
  },
  {
   "cell_type": "code",
   "execution_count": null,
   "id": "09a1b916",
   "metadata": {},
   "outputs": [],
   "source": []
  }
 ],
 "metadata": {
  "kernelspec": {
   "display_name": "Python 3 (ipykernel)",
   "language": "python",
   "name": "python3"
  },
  "language_info": {
   "codemirror_mode": {
    "name": "ipython",
    "version": 3
   },
   "file_extension": ".py",
   "mimetype": "text/x-python",
   "name": "python",
   "nbconvert_exporter": "python",
   "pygments_lexer": "ipython3",
   "version": "3.9.12"
  }
 },
 "nbformat": 4,
 "nbformat_minor": 5
}
